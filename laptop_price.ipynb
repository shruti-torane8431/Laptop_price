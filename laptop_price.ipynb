{
 "cells": [
  {
   "cell_type": "markdown",
   "id": "34dacaeb-c0c1-48bb-8881-5ab644af9aaa",
   "metadata": {},
   "source": [
    "## 1.import required libraries"
   ]
  },
  {
   "cell_type": "code",
   "execution_count": 2,
   "id": "86d1bb3c-5ab5-4446-b0da-8e63e007d34b",
   "metadata": {},
   "outputs": [],
   "source": [
    "import pandas as pd"
   ]
  },
  {
   "cell_type": "markdown",
   "id": "1d1d48bc-bc8b-4131-a1f0-bdc886977f80",
   "metadata": {},
   "source": [
    "## 2.read csv file using pandas"
   ]
  },
  {
   "cell_type": "code",
   "execution_count": 3,
   "id": "b8e5f64c-25d1-4cac-bbb1-bf558421949c",
   "metadata": {},
   "outputs": [],
   "source": [
    "df=pd.read_csv(\"C:\\\\Users\\\\shrut\\\\OneDrive\\\\Desktop\\\\P_JN\\\\csv_files\\\\laptop_prices.csv\")"
   ]
  },
  {
   "cell_type": "code",
   "execution_count": 4,
   "id": "598bcd07-58d1-442d-a69c-2d5b59230d78",
   "metadata": {},
   "outputs": [
    {
     "data": {
      "text/html": [
       "<div>\n",
       "<style scoped>\n",
       "    .dataframe tbody tr th:only-of-type {\n",
       "        vertical-align: middle;\n",
       "    }\n",
       "\n",
       "    .dataframe tbody tr th {\n",
       "        vertical-align: top;\n",
       "    }\n",
       "\n",
       "    .dataframe thead th {\n",
       "        text-align: right;\n",
       "    }\n",
       "</style>\n",
       "<table border=\"1\" class=\"dataframe\">\n",
       "  <thead>\n",
       "    <tr style=\"text-align: right;\">\n",
       "      <th></th>\n",
       "      <th>Brand</th>\n",
       "      <th>Processor</th>\n",
       "      <th>RAM (GB)</th>\n",
       "      <th>Storage</th>\n",
       "      <th>GPU</th>\n",
       "      <th>Screen Size (inch)</th>\n",
       "      <th>Resolution</th>\n",
       "      <th>Battery Life (hours)</th>\n",
       "      <th>Weight (kg)</th>\n",
       "      <th>Operating System</th>\n",
       "      <th>Price ($)</th>\n",
       "    </tr>\n",
       "  </thead>\n",
       "  <tbody>\n",
       "    <tr>\n",
       "      <th>0</th>\n",
       "      <td>Apple</td>\n",
       "      <td>AMD Ryzen 3</td>\n",
       "      <td>64</td>\n",
       "      <td>512GB SSD</td>\n",
       "      <td>Nvidia GTX 1650</td>\n",
       "      <td>17.3</td>\n",
       "      <td>2560x1440</td>\n",
       "      <td>8.9</td>\n",
       "      <td>1.42</td>\n",
       "      <td>FreeDOS</td>\n",
       "      <td>3997.07</td>\n",
       "    </tr>\n",
       "    <tr>\n",
       "      <th>1</th>\n",
       "      <td>Razer</td>\n",
       "      <td>AMD Ryzen 7</td>\n",
       "      <td>4</td>\n",
       "      <td>1TB SSD</td>\n",
       "      <td>Nvidia RTX 3080</td>\n",
       "      <td>14.0</td>\n",
       "      <td>1366x768</td>\n",
       "      <td>9.4</td>\n",
       "      <td>2.57</td>\n",
       "      <td>Linux</td>\n",
       "      <td>1355.78</td>\n",
       "    </tr>\n",
       "    <tr>\n",
       "      <th>2</th>\n",
       "      <td>Asus</td>\n",
       "      <td>Intel i5</td>\n",
       "      <td>32</td>\n",
       "      <td>2TB SSD</td>\n",
       "      <td>Nvidia RTX 3060</td>\n",
       "      <td>13.3</td>\n",
       "      <td>3840x2160</td>\n",
       "      <td>8.5</td>\n",
       "      <td>1.74</td>\n",
       "      <td>FreeDOS</td>\n",
       "      <td>2673.07</td>\n",
       "    </tr>\n",
       "    <tr>\n",
       "      <th>3</th>\n",
       "      <td>Lenovo</td>\n",
       "      <td>Intel i5</td>\n",
       "      <td>4</td>\n",
       "      <td>256GB SSD</td>\n",
       "      <td>Nvidia RTX 3080</td>\n",
       "      <td>13.3</td>\n",
       "      <td>1366x768</td>\n",
       "      <td>10.5</td>\n",
       "      <td>3.10</td>\n",
       "      <td>Windows</td>\n",
       "      <td>751.17</td>\n",
       "    </tr>\n",
       "    <tr>\n",
       "      <th>4</th>\n",
       "      <td>Razer</td>\n",
       "      <td>Intel i3</td>\n",
       "      <td>4</td>\n",
       "      <td>256GB SSD</td>\n",
       "      <td>AMD Radeon RX 6600</td>\n",
       "      <td>16.0</td>\n",
       "      <td>3840x2160</td>\n",
       "      <td>5.7</td>\n",
       "      <td>3.38</td>\n",
       "      <td>Linux</td>\n",
       "      <td>2059.83</td>\n",
       "    </tr>\n",
       "    <tr>\n",
       "      <th>...</th>\n",
       "      <td>...</td>\n",
       "      <td>...</td>\n",
       "      <td>...</td>\n",
       "      <td>...</td>\n",
       "      <td>...</td>\n",
       "      <td>...</td>\n",
       "      <td>...</td>\n",
       "      <td>...</td>\n",
       "      <td>...</td>\n",
       "      <td>...</td>\n",
       "      <td>...</td>\n",
       "    </tr>\n",
       "    <tr>\n",
       "      <th>11763</th>\n",
       "      <td>Acer</td>\n",
       "      <td>Intel i3</td>\n",
       "      <td>4</td>\n",
       "      <td>2TB SSD</td>\n",
       "      <td>Nvidia RTX 2060</td>\n",
       "      <td>17.3</td>\n",
       "      <td>1366x768</td>\n",
       "      <td>11.5</td>\n",
       "      <td>1.58</td>\n",
       "      <td>macOS</td>\n",
       "      <td>704.82</td>\n",
       "    </tr>\n",
       "    <tr>\n",
       "      <th>11764</th>\n",
       "      <td>Asus</td>\n",
       "      <td>Intel i3</td>\n",
       "      <td>4</td>\n",
       "      <td>2TB SSD</td>\n",
       "      <td>AMD Radeon RX 6800</td>\n",
       "      <td>16.0</td>\n",
       "      <td>1366x768</td>\n",
       "      <td>9.5</td>\n",
       "      <td>2.14</td>\n",
       "      <td>Linux</td>\n",
       "      <td>775.59</td>\n",
       "    </tr>\n",
       "    <tr>\n",
       "      <th>11765</th>\n",
       "      <td>Razer</td>\n",
       "      <td>AMD Ryzen 9</td>\n",
       "      <td>4</td>\n",
       "      <td>2TB SSD</td>\n",
       "      <td>AMD Radeon RX 6600</td>\n",
       "      <td>15.6</td>\n",
       "      <td>2560x1440</td>\n",
       "      <td>8.2</td>\n",
       "      <td>2.05</td>\n",
       "      <td>Linux</td>\n",
       "      <td>2789.46</td>\n",
       "    </tr>\n",
       "    <tr>\n",
       "      <th>11766</th>\n",
       "      <td>Samsung</td>\n",
       "      <td>AMD Ryzen 7</td>\n",
       "      <td>16</td>\n",
       "      <td>512GB SSD</td>\n",
       "      <td>Integrated</td>\n",
       "      <td>13.3</td>\n",
       "      <td>1920x1080</td>\n",
       "      <td>7.5</td>\n",
       "      <td>1.48</td>\n",
       "      <td>macOS</td>\n",
       "      <td>1067.13</td>\n",
       "    </tr>\n",
       "    <tr>\n",
       "      <th>11767</th>\n",
       "      <td>Samsung</td>\n",
       "      <td>Intel i7</td>\n",
       "      <td>8</td>\n",
       "      <td>256GB SSD</td>\n",
       "      <td>Nvidia RTX 3080</td>\n",
       "      <td>17.3</td>\n",
       "      <td>2560x1440</td>\n",
       "      <td>6.4</td>\n",
       "      <td>2.45</td>\n",
       "      <td>FreeDOS</td>\n",
       "      <td>1579.55</td>\n",
       "    </tr>\n",
       "  </tbody>\n",
       "</table>\n",
       "<p>11768 rows × 11 columns</p>\n",
       "</div>"
      ],
      "text/plain": [
       "         Brand    Processor  RAM (GB)    Storage                 GPU  \\\n",
       "0        Apple  AMD Ryzen 3        64  512GB SSD     Nvidia GTX 1650   \n",
       "1        Razer  AMD Ryzen 7         4    1TB SSD     Nvidia RTX 3080   \n",
       "2         Asus     Intel i5        32    2TB SSD     Nvidia RTX 3060   \n",
       "3       Lenovo     Intel i5         4  256GB SSD     Nvidia RTX 3080   \n",
       "4        Razer     Intel i3         4  256GB SSD  AMD Radeon RX 6600   \n",
       "...        ...          ...       ...        ...                 ...   \n",
       "11763     Acer     Intel i3         4    2TB SSD     Nvidia RTX 2060   \n",
       "11764     Asus     Intel i3         4    2TB SSD  AMD Radeon RX 6800   \n",
       "11765    Razer  AMD Ryzen 9         4    2TB SSD  AMD Radeon RX 6600   \n",
       "11766  Samsung  AMD Ryzen 7        16  512GB SSD          Integrated   \n",
       "11767  Samsung     Intel i7         8  256GB SSD     Nvidia RTX 3080   \n",
       "\n",
       "       Screen Size (inch) Resolution  Battery Life (hours)  Weight (kg)  \\\n",
       "0                    17.3  2560x1440                   8.9         1.42   \n",
       "1                    14.0   1366x768                   9.4         2.57   \n",
       "2                    13.3  3840x2160                   8.5         1.74   \n",
       "3                    13.3   1366x768                  10.5         3.10   \n",
       "4                    16.0  3840x2160                   5.7         3.38   \n",
       "...                   ...        ...                   ...          ...   \n",
       "11763                17.3   1366x768                  11.5         1.58   \n",
       "11764                16.0   1366x768                   9.5         2.14   \n",
       "11765                15.6  2560x1440                   8.2         2.05   \n",
       "11766                13.3  1920x1080                   7.5         1.48   \n",
       "11767                17.3  2560x1440                   6.4         2.45   \n",
       "\n",
       "      Operating System  Price ($)  \n",
       "0              FreeDOS    3997.07  \n",
       "1                Linux    1355.78  \n",
       "2              FreeDOS    2673.07  \n",
       "3              Windows     751.17  \n",
       "4                Linux    2059.83  \n",
       "...                ...        ...  \n",
       "11763            macOS     704.82  \n",
       "11764            Linux     775.59  \n",
       "11765            Linux    2789.46  \n",
       "11766            macOS    1067.13  \n",
       "11767          FreeDOS    1579.55  \n",
       "\n",
       "[11768 rows x 11 columns]"
      ]
     },
     "execution_count": 4,
     "metadata": {},
     "output_type": "execute_result"
    }
   ],
   "source": [
    "df"
   ]
  },
  {
   "cell_type": "markdown",
   "id": "e8fb6b9a-473a-4f3b-9699-a2d60b46df39",
   "metadata": {},
   "source": [
    "## 3.get all columns from dataframe"
   ]
  },
  {
   "cell_type": "code",
   "execution_count": 5,
   "id": "961f5ed1-838a-437c-ad9d-f2300d4d8c97",
   "metadata": {},
   "outputs": [
    {
     "name": "stdout",
     "output_type": "stream",
     "text": [
      "Brand\n",
      "Processor\n",
      "RAM (GB)\n",
      "Storage\n",
      "GPU\n",
      "Screen Size (inch)\n",
      "Resolution\n",
      "Battery Life (hours)\n",
      "Weight (kg)\n",
      "Operating System\n",
      "Price ($)\n"
     ]
    }
   ],
   "source": [
    "for col in df.columns:\n",
    "    print(col)"
   ]
  },
  {
   "cell_type": "markdown",
   "id": "3351a941-645a-4e6a-bd64-0f39c21c0ef7",
   "metadata": {},
   "source": [
    "## 4.print information about dataframe"
   ]
  },
  {
   "cell_type": "code",
   "execution_count": 6,
   "id": "121b663a-09ee-43d9-98ba-d77c54ae9b4a",
   "metadata": {},
   "outputs": [
    {
     "name": "stdout",
     "output_type": "stream",
     "text": [
      "<class 'pandas.core.frame.DataFrame'>\n",
      "RangeIndex: 11768 entries, 0 to 11767\n",
      "Data columns (total 11 columns):\n",
      " #   Column                Non-Null Count  Dtype  \n",
      "---  ------                --------------  -----  \n",
      " 0   Brand                 11768 non-null  object \n",
      " 1   Processor             11768 non-null  object \n",
      " 2   RAM (GB)              11768 non-null  int64  \n",
      " 3   Storage               11768 non-null  object \n",
      " 4   GPU                   11768 non-null  object \n",
      " 5   Screen Size (inch)    11768 non-null  float64\n",
      " 6   Resolution            11768 non-null  object \n",
      " 7   Battery Life (hours)  11768 non-null  float64\n",
      " 8   Weight (kg)           11768 non-null  float64\n",
      " 9   Operating System      11768 non-null  object \n",
      " 10  Price ($)             11768 non-null  float64\n",
      "dtypes: float64(4), int64(1), object(6)\n",
      "memory usage: 1011.4+ KB\n"
     ]
    }
   ],
   "source": [
    "df.info()"
   ]
  },
  {
   "cell_type": "markdown",
   "id": "145f9060-6a46-4d90-a24f-d4528b759603",
   "metadata": {},
   "source": [
    "## 4.check wheather null value is present or not"
   ]
  },
  {
   "cell_type": "code",
   "execution_count": 7,
   "id": "c870549a-535d-4321-9d99-daae1378a9f8",
   "metadata": {},
   "outputs": [
    {
     "data": {
      "text/plain": [
       "Brand                   0\n",
       "Processor               0\n",
       "RAM (GB)                0\n",
       "Storage                 0\n",
       "GPU                     0\n",
       "Screen Size (inch)      0\n",
       "Resolution              0\n",
       "Battery Life (hours)    0\n",
       "Weight (kg)             0\n",
       "Operating System        0\n",
       "Price ($)               0\n",
       "dtype: int64"
      ]
     },
     "execution_count": 7,
     "metadata": {},
     "output_type": "execute_result"
    }
   ],
   "source": [
    "df.isna().sum()"
   ]
  },
  {
   "cell_type": "markdown",
   "id": "694246a3-a14e-4c5d-bd9b-8bc4957be4ca",
   "metadata": {},
   "source": [
    "## 5.Count of Laptops for Each Brand"
   ]
  },
  {
   "cell_type": "code",
   "execution_count": 8,
   "id": "770b99fb-d947-423b-a960-0e759e8974f3",
   "metadata": {},
   "outputs": [
    {
     "data": {
      "text/plain": [
       "<Axes: xlabel='Brand'>"
      ]
     },
     "execution_count": 8,
     "metadata": {},
     "output_type": "execute_result"
    },
    {
     "data": {
      "image/png": "[encoded data removed]",
      "text/plain": [
       "<Figure size 640x480 with 1 Axes>"
      ]
     },
     "metadata": {},
     "output_type": "display_data"
    }
   ],
   "source": [
    "df['Brand'].value_counts().plot(kind='bar')"
   ]
  },
  {
   "cell_type": "markdown",
   "id": "3d9b1927-8d06-4ea9-b1bb-cd045abc55fe",
   "metadata": {},
   "source": [
    "## 6.What are the top 5 brands with the highest average price?\n"
   ]
  },
  {
   "cell_type": "code",
   "execution_count": 53,
   "id": "f9813be7-a84c-4db0-acfa-82c4547c14f2",
   "metadata": {
    "scrolled": true
   },
   "outputs": [],
   "source": [
    "brand_avg_price=df.groupby('Brand')['Price ($)'].mean()"
   ]
  },
  {
   "cell_type": "code",
   "execution_count": 54,
   "id": "5c5ee0be-53ea-4f9b-a387-cf0e0b2ece31",
   "metadata": {},
   "outputs": [],
   "source": [
    "top_5=brand_avg_price.sort_values(ascending=False).head()"
   ]
  },
  {
   "cell_type": "code",
   "execution_count": 55,
   "id": "f979df97-d28a-461c-a5c3-4ddda701d3b5",
   "metadata": {},
   "outputs": [
    {
     "data": {
      "text/plain": [
       "Brand\n",
       "Apple        2915.364279\n",
       "Razer        2695.213804\n",
       "MSI          2517.552227\n",
       "Lenovo       1978.465790\n",
       "Microsoft    1975.203549\n",
       "Name: Price ($), dtype: float64"
      ]
     },
     "execution_count": 55,
     "metadata": {},
     "output_type": "execute_result"
    }
   ],
   "source": [
    "top_5"
   ]
  },
  {
   "cell_type": "markdown",
   "id": "4a5b5bb2-cba5-4747-ad0c-7caa0e69f8b7",
   "metadata": {},
   "source": [
    "## 7.Average Laptop Price by Brand"
   ]
  },
  {
   "cell_type": "code",
   "execution_count": 12,
   "id": "0897869c-b421-4ff2-857b-57251ae954fb",
   "metadata": {},
   "outputs": [
    {
     "data": {
      "text/plain": [
       "<Axes: xlabel='Brand'>"
      ]
     },
     "execution_count": 12,
     "metadata": {},
     "output_type": "execute_result"
    },
    {
     "data": {
      "image/png": "[encoded data removed]",
      "text/plain": [
       "<Figure size 640x480 with 1 Axes>"
      ]
     },
     "metadata": {},
     "output_type": "display_data"
    }
   ],
   "source": [
    "df.groupby('Brand')['Price ($)'].mean().plot(kind='bar')"
   ]
  },
  {
   "cell_type": "markdown",
   "id": "e56d0124-c540-4562-b8a8-e003846d8430",
   "metadata": {},
   "source": [
    "## 8.How does RAM size affect the price? Is there a noticeable trend?\n"
   ]
  },
  {
   "cell_type": "code",
   "execution_count": 13,
   "id": "b723848f-6065-479b-932b-1b7a5944e68a",
   "metadata": {},
   "outputs": [],
   "source": [
    "ram_effect=df[['RAM (GB)','Price ($)']].corr()"
   ]
  },
  {
   "cell_type": "markdown",
   "id": "a03cfdea-fbd0-49af-a4ec-db6740196f56",
   "metadata": {},
   "source": [
    "## visual representation "
   ]
  },
  {
   "cell_type": "code",
   "execution_count": 14,
   "id": "7cf6bfd9-53db-4c3d-b1a2-bd81cd2eb116",
   "metadata": {},
   "outputs": [],
   "source": [
    "import seaborn as sns"
   ]
  },
  {
   "cell_type": "code",
   "execution_count": 15,
   "id": "95b8ca4d-8083-468d-84c7-c8d6b78d5e46",
   "metadata": {},
   "outputs": [
    {
     "data": {
      "text/plain": [
       "<Axes: >"
      ]
     },
     "execution_count": 15,
     "metadata": {},
     "output_type": "execute_result"
    },
    {
     "data": {
      "image/png": "[encoded data removed]",
      "text/plain": [
       "<Figure size 640x480 with 2 Axes>"
      ]
     },
     "metadata": {},
     "output_type": "display_data"
    }
   ],
   "source": [
    "sns.heatmap(ram_effect,annot=True,linecolor='m',linewidth=0.8)"
   ]
  },
  {
   "cell_type": "raw",
   "id": "9dba99b0-ce65-4756-b6e9-b1acd081cf80",
   "metadata": {},
   "source": [
    "Note:There is moderate co-relation between  ram and price"
   ]
  },
  {
   "cell_type": "markdown",
   "id": "2c56bcf8-595e-470b-b081-816dbf704449",
   "metadata": {},
   "source": [
    "## 9.Which processor is most commonly used in the dataset?\n"
   ]
  },
  {
   "cell_type": "code",
   "execution_count": 16,
   "id": "26a10261-fced-4a85-bbf7-f955664bcfc0",
   "metadata": {},
   "outputs": [
    {
     "data": {
      "text/plain": [
       "0    Intel i3\n",
       "Name: Processor, dtype: object"
      ]
     },
     "execution_count": 16,
     "metadata": {},
     "output_type": "execute_result"
    }
   ],
   "source": [
    "df['Processor'].mode()\n"
   ]
  },
  {
   "cell_type": "raw",
   "id": "1f432ae7-b49f-409e-9244-99ccba1a71c0",
   "metadata": {},
   "source": [
    "----------------------or-------------------------"
   ]
  },
  {
   "cell_type": "code",
   "execution_count": 17,
   "id": "6774859f-c057-4794-ae13-d002dce7b55d",
   "metadata": {},
   "outputs": [
    {
     "data": {
      "text/plain": [
       "Processor\n",
       "Intel i3       1570\n",
       "Intel i7       1509\n",
       "AMD Ryzen 3    1500\n",
       "AMD Ryzen 9    1472\n",
       "Intel i9       1456\n",
       "Intel i5       1429\n",
       "AMD Ryzen 5    1422\n",
       "AMD Ryzen 7    1410\n",
       "Name: count, dtype: int64"
      ]
     },
     "execution_count": 17,
     "metadata": {},
     "output_type": "execute_result"
    }
   ],
   "source": [
    "df['Processor'].value_counts()"
   ]
  },
  {
   "cell_type": "markdown",
   "id": "3cc419f8-57cb-49c2-8961-ec71f41e9d1b",
   "metadata": {},
   "source": [
    "## 10.Is there a correlation between battery life and weight?\n"
   ]
  },
  {
   "cell_type": "code",
   "execution_count": 18,
   "id": "0c763bad-590f-461d-a554-e253fb1307a2",
   "metadata": {},
   "outputs": [],
   "source": [
    "bat_weig=df[['Battery Life (hours)','Weight (kg)']].corr()"
   ]
  },
  {
   "cell_type": "code",
   "execution_count": 19,
   "id": "fc032ee4-958d-412c-a150-b7f164bb49f0",
   "metadata": {},
   "outputs": [
    {
     "data": {
      "text/plain": [
       "<Axes: >"
      ]
     },
     "execution_count": 19,
     "metadata": {},
     "output_type": "execute_result"
    },
    {
     "data": {
      "image/png": "[encoded data removed]",
      "text/plain": [
       "<Figure size 640x480 with 2 Axes>"
      ]
     },
     "metadata": {},
     "output_type": "display_data"
    }
   ],
   "source": [
    "sns.heatmap(bat_weig,annot=True,linecolor='m',linewidth=0.9)"
   ]
  },
  {
   "cell_type": "raw",
   "id": "5e3d72f7-0da0-4175-b5d9-5f2ec582eb82",
   "metadata": {},
   "source": [
    "Note:Correlation analysis between Screen Size and Battery Life resulted in -0.0018, indicating no significant relationship"
   ]
  },
  {
   "cell_type": "markdown",
   "id": "1d73b06e-ffd9-4cdc-a136-20f566f35785",
   "metadata": {},
   "source": [
    "## 11. How does screen size impact battery life?\n"
   ]
  },
  {
   "cell_type": "code",
   "execution_count": 21,
   "id": "cf5380f7-61b6-4337-bb1d-0af577fd1828",
   "metadata": {},
   "outputs": [],
   "source": [
    "scr_bat=df[['Screen Size (inch)','Battery Life (hours)']].corr()"
   ]
  },
  {
   "cell_type": "code",
   "execution_count": 22,
   "id": "e0e64649-6848-495d-afaa-95940c9549ac",
   "metadata": {},
   "outputs": [
    {
     "data": {
      "text/plain": [
       "<Axes: >"
      ]
     },
     "execution_count": 22,
     "metadata": {},
     "output_type": "execute_result"
    },
    {
     "data": {
      "image/png": "[encoded data removed]",
      "text/plain": [
       "<Figure size 640x480 with 2 Axes>"
      ]
     },
     "metadata": {},
     "output_type": "display_data"
    }
   ],
   "source": [
    "sns.heatmap(scr_bat,annot=True,linewidth=0.9,linecolor='g')"
   ]
  },
  {
   "cell_type": "raw",
   "id": "4f146e3a-1961-42b0-aed7-a52d33415867",
   "metadata": {},
   "source": [
    "Note:Since 0.0083 is very close to 0, it indicates that Screen Size has no meaningful impact on Battery Life"
   ]
  },
  {
   "cell_type": "markdown",
   "id": "29b3390e-96b1-4c7e-902f-ea938791c628",
   "metadata": {},
   "source": [
    "## 12.What is the average price difference between HDD and SSD storage?"
   ]
  },
  {
   "cell_type": "code",
   "execution_count": 23,
   "id": "6c3570b4-7c65-41ed-97c8-833ba8919020",
   "metadata": {},
   "outputs": [
    {
     "data": {
      "text/html": [
       "<div>\n",
       "<style scoped>\n",
       "    .dataframe tbody tr th:only-of-type {\n",
       "        vertical-align: middle;\n",
       "    }\n",
       "\n",
       "    .dataframe tbody tr th {\n",
       "        vertical-align: top;\n",
       "    }\n",
       "\n",
       "    .dataframe thead th {\n",
       "        text-align: right;\n",
       "    }\n",
       "</style>\n",
       "<table border=\"1\" class=\"dataframe\">\n",
       "  <thead>\n",
       "    <tr style=\"text-align: right;\">\n",
       "      <th></th>\n",
       "      <th>Brand</th>\n",
       "      <th>Processor</th>\n",
       "      <th>RAM (GB)</th>\n",
       "      <th>Storage</th>\n",
       "      <th>GPU</th>\n",
       "      <th>Screen Size (inch)</th>\n",
       "      <th>Resolution</th>\n",
       "      <th>Battery Life (hours)</th>\n",
       "      <th>Weight (kg)</th>\n",
       "      <th>Operating System</th>\n",
       "      <th>Price ($)</th>\n",
       "    </tr>\n",
       "  </thead>\n",
       "  <tbody>\n",
       "    <tr>\n",
       "      <th>0</th>\n",
       "      <td>Apple</td>\n",
       "      <td>AMD Ryzen 3</td>\n",
       "      <td>64</td>\n",
       "      <td>512GB SSD</td>\n",
       "      <td>Nvidia GTX 1650</td>\n",
       "      <td>17.3</td>\n",
       "      <td>2560x1440</td>\n",
       "      <td>8.9</td>\n",
       "      <td>1.42</td>\n",
       "      <td>FreeDOS</td>\n",
       "      <td>3997.07</td>\n",
       "    </tr>\n",
       "    <tr>\n",
       "      <th>1</th>\n",
       "      <td>Razer</td>\n",
       "      <td>AMD Ryzen 7</td>\n",
       "      <td>4</td>\n",
       "      <td>1TB SSD</td>\n",
       "      <td>Nvidia RTX 3080</td>\n",
       "      <td>14.0</td>\n",
       "      <td>1366x768</td>\n",
       "      <td>9.4</td>\n",
       "      <td>2.57</td>\n",
       "      <td>Linux</td>\n",
       "      <td>1355.78</td>\n",
       "    </tr>\n",
       "    <tr>\n",
       "      <th>2</th>\n",
       "      <td>Asus</td>\n",
       "      <td>Intel i5</td>\n",
       "      <td>32</td>\n",
       "      <td>2TB SSD</td>\n",
       "      <td>Nvidia RTX 3060</td>\n",
       "      <td>13.3</td>\n",
       "      <td>3840x2160</td>\n",
       "      <td>8.5</td>\n",
       "      <td>1.74</td>\n",
       "      <td>FreeDOS</td>\n",
       "      <td>2673.07</td>\n",
       "    </tr>\n",
       "    <tr>\n",
       "      <th>3</th>\n",
       "      <td>Lenovo</td>\n",
       "      <td>Intel i5</td>\n",
       "      <td>4</td>\n",
       "      <td>256GB SSD</td>\n",
       "      <td>Nvidia RTX 3080</td>\n",
       "      <td>13.3</td>\n",
       "      <td>1366x768</td>\n",
       "      <td>10.5</td>\n",
       "      <td>3.10</td>\n",
       "      <td>Windows</td>\n",
       "      <td>751.17</td>\n",
       "    </tr>\n",
       "    <tr>\n",
       "      <th>4</th>\n",
       "      <td>Razer</td>\n",
       "      <td>Intel i3</td>\n",
       "      <td>4</td>\n",
       "      <td>256GB SSD</td>\n",
       "      <td>AMD Radeon RX 6600</td>\n",
       "      <td>16.0</td>\n",
       "      <td>3840x2160</td>\n",
       "      <td>5.7</td>\n",
       "      <td>3.38</td>\n",
       "      <td>Linux</td>\n",
       "      <td>2059.83</td>\n",
       "    </tr>\n",
       "  </tbody>\n",
       "</table>\n",
       "</div>"
      ],
      "text/plain": [
       "    Brand    Processor  RAM (GB)    Storage                 GPU  \\\n",
       "0   Apple  AMD Ryzen 3        64  512GB SSD     Nvidia GTX 1650   \n",
       "1   Razer  AMD Ryzen 7         4    1TB SSD     Nvidia RTX 3080   \n",
       "2    Asus     Intel i5        32    2TB SSD     Nvidia RTX 3060   \n",
       "3  Lenovo     Intel i5         4  256GB SSD     Nvidia RTX 3080   \n",
       "4   Razer     Intel i3         4  256GB SSD  AMD Radeon RX 6600   \n",
       "\n",
       "   Screen Size (inch) Resolution  Battery Life (hours)  Weight (kg)  \\\n",
       "0                17.3  2560x1440                   8.9         1.42   \n",
       "1                14.0   1366x768                   9.4         2.57   \n",
       "2                13.3  3840x2160                   8.5         1.74   \n",
       "3                13.3   1366x768                  10.5         3.10   \n",
       "4                16.0  3840x2160                   5.7         3.38   \n",
       "\n",
       "  Operating System  Price ($)  \n",
       "0          FreeDOS    3997.07  \n",
       "1            Linux    1355.78  \n",
       "2          FreeDOS    2673.07  \n",
       "3          Windows     751.17  \n",
       "4            Linux    2059.83  "
      ]
     },
     "execution_count": 23,
     "metadata": {},
     "output_type": "execute_result"
    }
   ],
   "source": [
    "SSD_mean=df[df['Storage'].str.contains('SSD')]\n",
    "SSD_mean.head()"
   ]
  },
  {
   "cell_type": "code",
   "execution_count": 24,
   "id": "23fa5edf-d62d-493f-9413-347cf9b25baa",
   "metadata": {},
   "outputs": [
    {
     "name": "stdout",
     "output_type": "stream",
     "text": [
      "2250.25\n"
     ]
    }
   ],
   "source": [
    "SSD=SSD_mean['Price ($)'].mean().round(2)\n",
    "print(SSD)"
   ]
  },
  {
   "cell_type": "code",
   "execution_count": 25,
   "id": "90b42c17-8d52-4955-9254-07f73d3a6117",
   "metadata": {},
   "outputs": [
    {
     "data": {
      "text/html": [
       "<div>\n",
       "<style scoped>\n",
       "    .dataframe tbody tr th:only-of-type {\n",
       "        vertical-align: middle;\n",
       "    }\n",
       "\n",
       "    .dataframe tbody tr th {\n",
       "        vertical-align: top;\n",
       "    }\n",
       "\n",
       "    .dataframe thead th {\n",
       "        text-align: right;\n",
       "    }\n",
       "</style>\n",
       "<table border=\"1\" class=\"dataframe\">\n",
       "  <thead>\n",
       "    <tr style=\"text-align: right;\">\n",
       "      <th></th>\n",
       "      <th>Brand</th>\n",
       "      <th>Processor</th>\n",
       "      <th>RAM (GB)</th>\n",
       "      <th>Storage</th>\n",
       "      <th>GPU</th>\n",
       "      <th>Screen Size (inch)</th>\n",
       "      <th>Resolution</th>\n",
       "      <th>Battery Life (hours)</th>\n",
       "      <th>Weight (kg)</th>\n",
       "      <th>Operating System</th>\n",
       "      <th>Price ($)</th>\n",
       "    </tr>\n",
       "  </thead>\n",
       "  <tbody>\n",
       "    <tr>\n",
       "      <th>11</th>\n",
       "      <td>Razer</td>\n",
       "      <td>Intel i5</td>\n",
       "      <td>32</td>\n",
       "      <td>1TB HDD</td>\n",
       "      <td>AMD Radeon RX 6800</td>\n",
       "      <td>16.0</td>\n",
       "      <td>1920x1080</td>\n",
       "      <td>8.3</td>\n",
       "      <td>1.21</td>\n",
       "      <td>Windows</td>\n",
       "      <td>2032.69</td>\n",
       "    </tr>\n",
       "    <tr>\n",
       "      <th>22</th>\n",
       "      <td>Dell</td>\n",
       "      <td>AMD Ryzen 3</td>\n",
       "      <td>8</td>\n",
       "      <td>1TB HDD</td>\n",
       "      <td>Nvidia GTX 1650</td>\n",
       "      <td>13.3</td>\n",
       "      <td>2560x1440</td>\n",
       "      <td>7.0</td>\n",
       "      <td>1.70</td>\n",
       "      <td>Linux</td>\n",
       "      <td>878.50</td>\n",
       "    </tr>\n",
       "    <tr>\n",
       "      <th>23</th>\n",
       "      <td>Dell</td>\n",
       "      <td>Intel i5</td>\n",
       "      <td>8</td>\n",
       "      <td>1TB HDD</td>\n",
       "      <td>Integrated</td>\n",
       "      <td>13.3</td>\n",
       "      <td>2560x1440</td>\n",
       "      <td>11.9</td>\n",
       "      <td>2.53</td>\n",
       "      <td>macOS</td>\n",
       "      <td>830.62</td>\n",
       "    </tr>\n",
       "    <tr>\n",
       "      <th>56</th>\n",
       "      <td>Asus</td>\n",
       "      <td>AMD Ryzen 9</td>\n",
       "      <td>8</td>\n",
       "      <td>1TB HDD</td>\n",
       "      <td>AMD Radeon RX 6800</td>\n",
       "      <td>13.3</td>\n",
       "      <td>2560x1440</td>\n",
       "      <td>8.2</td>\n",
       "      <td>2.15</td>\n",
       "      <td>FreeDOS</td>\n",
       "      <td>1866.80</td>\n",
       "    </tr>\n",
       "    <tr>\n",
       "      <th>63</th>\n",
       "      <td>Asus</td>\n",
       "      <td>AMD Ryzen 7</td>\n",
       "      <td>8</td>\n",
       "      <td>1TB HDD</td>\n",
       "      <td>Nvidia RTX 3080</td>\n",
       "      <td>16.0</td>\n",
       "      <td>1920x1080</td>\n",
       "      <td>7.8</td>\n",
       "      <td>1.67</td>\n",
       "      <td>macOS</td>\n",
       "      <td>1267.84</td>\n",
       "    </tr>\n",
       "    <tr>\n",
       "      <th>...</th>\n",
       "      <td>...</td>\n",
       "      <td>...</td>\n",
       "      <td>...</td>\n",
       "      <td>...</td>\n",
       "      <td>...</td>\n",
       "      <td>...</td>\n",
       "      <td>...</td>\n",
       "      <td>...</td>\n",
       "      <td>...</td>\n",
       "      <td>...</td>\n",
       "      <td>...</td>\n",
       "    </tr>\n",
       "    <tr>\n",
       "      <th>11740</th>\n",
       "      <td>Dell</td>\n",
       "      <td>Intel i3</td>\n",
       "      <td>8</td>\n",
       "      <td>1TB HDD</td>\n",
       "      <td>Nvidia RTX 2060</td>\n",
       "      <td>16.0</td>\n",
       "      <td>1920x1080</td>\n",
       "      <td>7.3</td>\n",
       "      <td>2.71</td>\n",
       "      <td>Windows</td>\n",
       "      <td>666.34</td>\n",
       "    </tr>\n",
       "    <tr>\n",
       "      <th>11743</th>\n",
       "      <td>Acer</td>\n",
       "      <td>AMD Ryzen 9</td>\n",
       "      <td>4</td>\n",
       "      <td>1TB HDD</td>\n",
       "      <td>Nvidia RTX 2060</td>\n",
       "      <td>13.3</td>\n",
       "      <td>2560x1440</td>\n",
       "      <td>4.4</td>\n",
       "      <td>2.71</td>\n",
       "      <td>Linux</td>\n",
       "      <td>1509.43</td>\n",
       "    </tr>\n",
       "    <tr>\n",
       "      <th>11747</th>\n",
       "      <td>Acer</td>\n",
       "      <td>AMD Ryzen 9</td>\n",
       "      <td>64</td>\n",
       "      <td>1TB HDD</td>\n",
       "      <td>Integrated</td>\n",
       "      <td>14.0</td>\n",
       "      <td>3840x2160</td>\n",
       "      <td>5.8</td>\n",
       "      <td>1.76</td>\n",
       "      <td>macOS</td>\n",
       "      <td>3782.95</td>\n",
       "    </tr>\n",
       "    <tr>\n",
       "      <th>11756</th>\n",
       "      <td>Lenovo</td>\n",
       "      <td>AMD Ryzen 3</td>\n",
       "      <td>32</td>\n",
       "      <td>1TB HDD</td>\n",
       "      <td>Nvidia RTX 3080</td>\n",
       "      <td>15.6</td>\n",
       "      <td>2560x1440</td>\n",
       "      <td>4.3</td>\n",
       "      <td>3.34</td>\n",
       "      <td>Linux</td>\n",
       "      <td>1515.35</td>\n",
       "    </tr>\n",
       "    <tr>\n",
       "      <th>11762</th>\n",
       "      <td>Apple</td>\n",
       "      <td>AMD Ryzen 9</td>\n",
       "      <td>16</td>\n",
       "      <td>1TB HDD</td>\n",
       "      <td>AMD Radeon RX 6600</td>\n",
       "      <td>15.6</td>\n",
       "      <td>1920x1080</td>\n",
       "      <td>10.9</td>\n",
       "      <td>1.55</td>\n",
       "      <td>FreeDOS</td>\n",
       "      <td>2704.23</td>\n",
       "    </tr>\n",
       "  </tbody>\n",
       "</table>\n",
       "<p>2302 rows × 11 columns</p>\n",
       "</div>"
      ],
      "text/plain": [
       "        Brand    Processor  RAM (GB)  Storage                 GPU  \\\n",
       "11      Razer     Intel i5        32  1TB HDD  AMD Radeon RX 6800   \n",
       "22       Dell  AMD Ryzen 3         8  1TB HDD     Nvidia GTX 1650   \n",
       "23       Dell     Intel i5         8  1TB HDD          Integrated   \n",
       "56       Asus  AMD Ryzen 9         8  1TB HDD  AMD Radeon RX 6800   \n",
       "63       Asus  AMD Ryzen 7         8  1TB HDD     Nvidia RTX 3080   \n",
       "...       ...          ...       ...      ...                 ...   \n",
       "11740    Dell     Intel i3         8  1TB HDD     Nvidia RTX 2060   \n",
       "11743    Acer  AMD Ryzen 9         4  1TB HDD     Nvidia RTX 2060   \n",
       "11747    Acer  AMD Ryzen 9        64  1TB HDD          Integrated   \n",
       "11756  Lenovo  AMD Ryzen 3        32  1TB HDD     Nvidia RTX 3080   \n",
       "11762   Apple  AMD Ryzen 9        16  1TB HDD  AMD Radeon RX 6600   \n",
       "\n",
       "       Screen Size (inch) Resolution  Battery Life (hours)  Weight (kg)  \\\n",
       "11                   16.0  1920x1080                   8.3         1.21   \n",
       "22                   13.3  2560x1440                   7.0         1.70   \n",
       "23                   13.3  2560x1440                  11.9         2.53   \n",
       "56                   13.3  2560x1440                   8.2         2.15   \n",
       "63                   16.0  1920x1080                   7.8         1.67   \n",
       "...                   ...        ...                   ...          ...   \n",
       "11740                16.0  1920x1080                   7.3         2.71   \n",
       "11743                13.3  2560x1440                   4.4         2.71   \n",
       "11747                14.0  3840x2160                   5.8         1.76   \n",
       "11756                15.6  2560x1440                   4.3         3.34   \n",
       "11762                15.6  1920x1080                  10.9         1.55   \n",
       "\n",
       "      Operating System  Price ($)  \n",
       "11             Windows    2032.69  \n",
       "22               Linux     878.50  \n",
       "23               macOS     830.62  \n",
       "56             FreeDOS    1866.80  \n",
       "63               macOS    1267.84  \n",
       "...                ...        ...  \n",
       "11740          Windows     666.34  \n",
       "11743            Linux    1509.43  \n",
       "11747            macOS    3782.95  \n",
       "11756            Linux    1515.35  \n",
       "11762          FreeDOS    2704.23  \n",
       "\n",
       "[2302 rows x 11 columns]"
      ]
     },
     "execution_count": 25,
     "metadata": {},
     "output_type": "execute_result"
    }
   ],
   "source": [
    "HDD_mean=df[df['Storage'].str.contains('HDD')]\n",
    "HDD_mean"
   ]
  },
  {
   "cell_type": "code",
   "execution_count": 26,
   "id": "3bec0157-ccd9-4d0f-b906-4a2a6b08deb4",
   "metadata": {},
   "outputs": [],
   "source": [
    "HDD=HDD_mean['Price ($)'].mean().round(2)"
   ]
  },
  {
   "cell_type": "code",
   "execution_count": 27,
   "id": "57ef5214-ef61-4887-b2f2-422ac23ba9ae",
   "metadata": {},
   "outputs": [
    {
     "name": "stdout",
     "output_type": "stream",
     "text": [
      "1909.37\n"
     ]
    }
   ],
   "source": [
    "print(HDD)"
   ]
  },
  {
   "cell_type": "markdown",
   "id": "a929e5c5-58b2-48c3-bb6c-06159231dc51",
   "metadata": {},
   "source": [
    "### price difference between HDD and SSD"
   ]
  },
  {
   "cell_type": "code",
   "execution_count": 28,
   "id": "e2bbf330-2e96-4671-913f-9b57feabc7e6",
   "metadata": {},
   "outputs": [],
   "source": [
    "difference=SSD-HDD"
   ]
  },
  {
   "cell_type": "code",
   "execution_count": 29,
   "id": "4ef87c60-9c23-4a1a-94bf-6b746136348a",
   "metadata": {},
   "outputs": [
    {
     "name": "stdout",
     "output_type": "stream",
     "text": [
      "340.88\n"
     ]
    }
   ],
   "source": [
    "print(difference.round(2))"
   ]
  },
  {
   "cell_type": "markdown",
   "id": "6407b677-73e4-460d-b4eb-c51a07b33ae2",
   "metadata": {},
   "source": [
    "## 13. Which GPU brand appears most frequently?\n"
   ]
  },
  {
   "cell_type": "code",
   "execution_count": 30,
   "id": "a9e899bf-4919-48d1-a4e2-a6cc1b5ede0b",
   "metadata": {},
   "outputs": [
    {
     "data": {
      "text/plain": [
       "GPU\n",
       "Nvidia RTX 2060       1746\n",
       "Nvidia GTX 1650       1698\n",
       "Nvidia RTX 3060       1679\n",
       "AMD Radeon RX 6600    1676\n",
       "AMD Radeon RX 6800    1669\n",
       "Integrated            1653\n",
       "Nvidia RTX 3080       1647\n",
       "Name: count, dtype: int64"
      ]
     },
     "execution_count": 30,
     "metadata": {},
     "output_type": "execute_result"
    }
   ],
   "source": [
    "df['GPU'].value_counts()"
   ]
  },
  {
   "cell_type": "code",
   "execution_count": 31,
   "id": "da2bae2a-2e62-43f8-b398-1ead83502077",
   "metadata": {},
   "outputs": [],
   "source": [
    "# ------------------------------------or-------------------------------------"
   ]
  },
  {
   "cell_type": "code",
   "execution_count": 32,
   "id": "6ae01fdf-ae5e-412f-9571-a728e883ad48",
   "metadata": {},
   "outputs": [
    {
     "data": {
      "text/plain": [
       "0    Nvidia RTX 2060\n",
       "Name: GPU, dtype: object"
      ]
     },
     "execution_count": 32,
     "metadata": {},
     "output_type": "execute_result"
    }
   ],
   "source": [
    "df['GPU'].mode()"
   ]
  },
  {
   "cell_type": "markdown",
   "id": "a7e2c8fa-95f2-4ba9-998b-3cb116bdf448",
   "metadata": {},
   "source": [
    "## 14.How do different operating systems compare in terms of average price?\n"
   ]
  },
  {
   "cell_type": "code",
   "execution_count": 33,
   "id": "5d5eea31-2b10-408a-babb-89dc6b29095f",
   "metadata": {},
   "outputs": [
    {
     "data": {
      "text/plain": [
       "Operating System\n",
       "FreeDOS    2189.949800\n",
       "Linux      2178.742634\n",
       "Windows    2181.014753\n",
       "macOS      2184.583501\n",
       "Name: Price ($), dtype: float64"
      ]
     },
     "execution_count": 33,
     "metadata": {},
     "output_type": "execute_result"
    }
   ],
   "source": [
    "df.groupby('Operating System')['Price ($)'].mean()"
   ]
  },
  {
   "cell_type": "markdown",
   "id": "1a0ecc8c-9648-4ead-8eb5-eb2f803124ed",
   "metadata": {},
   "source": [
    "## 15. Can you provide insights into the distribution of laptop weights?\n"
   ]
  },
  {
   "cell_type": "code",
   "execution_count": 34,
   "id": "938fda4d-e4e5-40fe-8840-9e4283d267fd",
   "metadata": {},
   "outputs": [
    {
     "data": {
      "text/plain": [
       "<Figure size 1000x500 with 0 Axes>"
      ]
     },
     "execution_count": 34,
     "metadata": {},
     "output_type": "execute_result"
    },
    {
     "data": {
      "image/png": "[encoded data removed]",
      "text/plain": [
       "<Figure size 640x480 with 1 Axes>"
      ]
     },
     "metadata": {},
     "output_type": "display_data"
    },
    {
     "data": {
      "text/plain": [
       "<Figure size 1000x500 with 0 Axes>"
      ]
     },
     "metadata": {},
     "output_type": "display_data"
    }
   ],
   "source": [
    "import matplotlib.pyplot as plt\n",
    "sns.histplot(x='Weight (kg)',bins=20,data=df,kde=True)\n",
    "plt.figure(figsize=(10,5))\n"
   ]
  },
  {
   "cell_type": "code",
   "execution_count": 35,
   "id": "d0314c01-068e-49e6-8f65-df006d481340",
   "metadata": {},
   "outputs": [
    {
     "data": {
      "text/plain": [
       "Weight (kg)\n",
       "3.40    74\n",
       "2.55    72\n",
       "1.85    72\n",
       "3.43    69\n",
       "1.67    68\n",
       "        ..\n",
       "2.17    37\n",
       "2.18    34\n",
       "1.20    27\n",
       "3.00    25\n",
       "3.50    24\n",
       "Name: count, Length: 231, dtype: int64"
      ]
     },
     "execution_count": 35,
     "metadata": {},
     "output_type": "execute_result"
    }
   ],
   "source": [
    "df['Weight (kg)'].value_counts()"
   ]
  },
  {
   "cell_type": "markdown",
   "id": "952dc6de-dd0a-4bdd-b73d-ea4aded75d68",
   "metadata": {},
   "source": [
    "## 16.Are there any specific brands that dominate the high-end price range?"
   ]
  },
  {
   "cell_type": "code",
   "execution_count": 56,
   "id": "9dceccc9-2f68-400a-8819-9bd9b1a76c99",
   "metadata": {},
   "outputs": [],
   "source": [
    "x_value=df.groupby('Brand')['Price ($)'].mean().sort_values(ascending=False).index"
   ]
  },
  {
   "cell_type": "code",
   "execution_count": 57,
   "id": "59adb7f5-310a-4916-b0c7-27b25c282aa8",
   "metadata": {},
   "outputs": [],
   "source": [
    "y_value=df.groupby('Brand')['Price ($)'].mean().sort_values(ascending=False)"
   ]
  },
  {
   "cell_type": "code",
   "execution_count": 58,
   "id": "733df1db-aa21-472d-ba3e-80eeba44035e",
   "metadata": {},
   "outputs": [],
   "source": [
    "import warnings\n",
    "warnings.filterwarnings('ignore')"
   ]
  },
  {
   "cell_type": "code",
   "execution_count": 62,
   "id": "2ccefbde-9b3d-45b9-8361-c22448bd6f03",
   "metadata": {},
   "outputs": [
    {
     "data": {
      "image/png": "[encoded data removed]",
      "text/plain": [
       "<Figure size 640x480 with 1 Axes>"
      ]
     },
     "metadata": {},
     "output_type": "display_data"
    }
   ],
   "source": [
    "import seaborn as sns\n",
    "import matplotlib.pyplot as plt\n",
    "\n",
    "sns.barplot(x=x_value,\n",
    "            y=y_value,  \n",
    "            palette='coolwarm')\n",
    "\n",
    "plt.xticks(rotation=20)\n",
    "plt.xlabel('Brand')\n",
    "plt.ylabel('Average Price ($)')\n",
    "plt.title('Average Laptop Price by Brand')\n",
    "plt.show()\n"
   ]
  },
  {
   "cell_type": "markdown",
   "id": "bdadddbb-2a1a-4abb-b7b5-6e2125bb79d3",
   "metadata": {},
   "source": [
    "## 17.available  storage options"
   ]
  },
  {
   "cell_type": "code",
   "execution_count": 85,
   "id": "bad1c043-6dcb-40d2-a9f3-857f2a0e1741",
   "metadata": {},
   "outputs": [
    {
     "data": {
      "image/png": "[encoded data removed]",
      "text/plain": [
       "<Figure size 640x480 with 1 Axes>"
      ]
     },
     "metadata": {},
     "output_type": "display_data"
    }
   ],
   "source": [
    "sns.countplot(x=df['Storage'], palette='viridis')\n",
    "plt.xlabel('Storage Options')\n",
    "plt.ylabel('Count')\n",
    "plt.title('Distribution of Storage Options in Laptops')\n",
    "plt.show()"
   ]
  },
  {
   "cell_type": "markdown",
   "id": "bb01d842-30d0-4f24-ad76-d6e049f00821",
   "metadata": {},
   "source": [
    "## 18.count of processor"
   ]
  },
  {
   "cell_type": "code",
   "execution_count": 64,
   "id": "35f9b5bd-00a5-47a9-8340-8b1e4275b3c0",
   "metadata": {},
   "outputs": [
    {
     "data": {
      "text/plain": [
       "<Axes: xlabel='Processor'>"
      ]
     },
     "execution_count": 64,
     "metadata": {},
     "output_type": "execute_result"
    },
    {
     "data": {
      "image/png": "[encoded data removed]",
      "text/plain": [
       "<Figure size 640x480 with 1 Axes>"
      ]
     },
     "metadata": {},
     "output_type": "display_data"
    }
   ],
   "source": [
    "df['Processor'].value_counts().plot(kind='bar')"
   ]
  },
  {
   "cell_type": "markdown",
   "id": "a8d85c9e-9c25-4eb4-ac65-7481e2d3c364",
   "metadata": {},
   "source": [
    "### 19.Adding 'INR' Column (Converting Price from USD to INR)"
   ]
  },
  {
   "cell_type": "code",
   "execution_count": 80,
   "id": "e53803fd-3c28-49c8-adcf-a4120eecdb21",
   "metadata": {},
   "outputs": [],
   "source": [
    "df['INR']=(df['Price ($)']*86.73).round(2)"
   ]
  },
  {
   "cell_type": "markdown",
   "id": "e3827092-7c2e-4e4c-85a9-b3916c843926",
   "metadata": {},
   "source": [
    "## 20.Top 5 High-End Laptops with 64GB RAM, 1TB SSD, Intel i9, and 17.3\" Screen Size (Sorted by Price)"
   ]
  },
  {
   "cell_type": "code",
   "execution_count": 81,
   "id": "236d42f3-89ae-4205-ae37-0ec0545d2276",
   "metadata": {},
   "outputs": [],
   "source": [
    "best=df[(df['RAM (GB)']==64)&(df['Storage']=='1TB SSD')&(df['Processor']=='Intel i9')&(df['Screen Size (inch)']==17.3)]"
   ]
  },
  {
   "cell_type": "code",
   "execution_count": 83,
   "id": "59dad65e-fb0c-4fcf-b300-c7f9993aef74",
   "metadata": {
    "scrolled": true
   },
   "outputs": [
    {
     "data": {
      "text/html": [
       "<div>\n",
       "<style scoped>\n",
       "    .dataframe tbody tr th:only-of-type {\n",
       "        vertical-align: middle;\n",
       "    }\n",
       "\n",
       "    .dataframe tbody tr th {\n",
       "        vertical-align: top;\n",
       "    }\n",
       "\n",
       "    .dataframe thead th {\n",
       "        text-align: right;\n",
       "    }\n",
       "</style>\n",
       "<table border=\"1\" class=\"dataframe\">\n",
       "  <thead>\n",
       "    <tr style=\"text-align: right;\">\n",
       "      <th></th>\n",
       "      <th>Brand</th>\n",
       "      <th>Processor</th>\n",
       "      <th>RAM (GB)</th>\n",
       "      <th>Storage</th>\n",
       "      <th>GPU</th>\n",
       "      <th>Screen Size (inch)</th>\n",
       "      <th>Resolution</th>\n",
       "      <th>Battery Life (hours)</th>\n",
       "      <th>Weight (kg)</th>\n",
       "      <th>Operating System</th>\n",
       "      <th>Price ($)</th>\n",
       "      <th>INR</th>\n",
       "    </tr>\n",
       "  </thead>\n",
       "  <tbody>\n",
       "    <tr>\n",
       "      <th>6386</th>\n",
       "      <td>Dell</td>\n",
       "      <td>Intel i9</td>\n",
       "      <td>64</td>\n",
       "      <td>1TB SSD</td>\n",
       "      <td>Nvidia RTX 3080</td>\n",
       "      <td>17.3</td>\n",
       "      <td>1366x768</td>\n",
       "      <td>5.1</td>\n",
       "      <td>2.57</td>\n",
       "      <td>Linux</td>\n",
       "      <td>3608.14</td>\n",
       "      <td>312933.98</td>\n",
       "    </tr>\n",
       "    <tr>\n",
       "      <th>7211</th>\n",
       "      <td>Samsung</td>\n",
       "      <td>Intel i9</td>\n",
       "      <td>64</td>\n",
       "      <td>1TB SSD</td>\n",
       "      <td>Integrated</td>\n",
       "      <td>17.3</td>\n",
       "      <td>2560x1440</td>\n",
       "      <td>8.9</td>\n",
       "      <td>1.20</td>\n",
       "      <td>Windows</td>\n",
       "      <td>3704.72</td>\n",
       "      <td>321310.37</td>\n",
       "    </tr>\n",
       "    <tr>\n",
       "      <th>7129</th>\n",
       "      <td>Microsoft</td>\n",
       "      <td>Intel i9</td>\n",
       "      <td>64</td>\n",
       "      <td>1TB SSD</td>\n",
       "      <td>Integrated</td>\n",
       "      <td>17.3</td>\n",
       "      <td>2560x1440</td>\n",
       "      <td>10.5</td>\n",
       "      <td>1.38</td>\n",
       "      <td>FreeDOS</td>\n",
       "      <td>3707.39</td>\n",
       "      <td>321541.93</td>\n",
       "    </tr>\n",
       "    <tr>\n",
       "      <th>6958</th>\n",
       "      <td>Asus</td>\n",
       "      <td>Intel i9</td>\n",
       "      <td>64</td>\n",
       "      <td>1TB SSD</td>\n",
       "      <td>Nvidia RTX 3080</td>\n",
       "      <td>17.3</td>\n",
       "      <td>1366x768</td>\n",
       "      <td>7.1</td>\n",
       "      <td>1.46</td>\n",
       "      <td>macOS</td>\n",
       "      <td>3717.81</td>\n",
       "      <td>322445.66</td>\n",
       "    </tr>\n",
       "    <tr>\n",
       "      <th>11526</th>\n",
       "      <td>Microsoft</td>\n",
       "      <td>Intel i9</td>\n",
       "      <td>64</td>\n",
       "      <td>1TB SSD</td>\n",
       "      <td>AMD Radeon RX 6600</td>\n",
       "      <td>17.3</td>\n",
       "      <td>1920x1080</td>\n",
       "      <td>7.5</td>\n",
       "      <td>1.65</td>\n",
       "      <td>FreeDOS</td>\n",
       "      <td>4290.14</td>\n",
       "      <td>372083.84</td>\n",
       "    </tr>\n",
       "    <tr>\n",
       "      <th>3611</th>\n",
       "      <td>Acer</td>\n",
       "      <td>Intel i9</td>\n",
       "      <td>64</td>\n",
       "      <td>1TB SSD</td>\n",
       "      <td>Nvidia RTX 3080</td>\n",
       "      <td>17.3</td>\n",
       "      <td>1920x1080</td>\n",
       "      <td>8.5</td>\n",
       "      <td>2.55</td>\n",
       "      <td>Windows</td>\n",
       "      <td>4306.51</td>\n",
       "      <td>373503.61</td>\n",
       "    </tr>\n",
       "    <tr>\n",
       "      <th>8253</th>\n",
       "      <td>HP</td>\n",
       "      <td>Intel i9</td>\n",
       "      <td>64</td>\n",
       "      <td>1TB SSD</td>\n",
       "      <td>Integrated</td>\n",
       "      <td>17.3</td>\n",
       "      <td>3840x2160</td>\n",
       "      <td>7.0</td>\n",
       "      <td>3.08</td>\n",
       "      <td>Linux</td>\n",
       "      <td>4879.98</td>\n",
       "      <td>423240.67</td>\n",
       "    </tr>\n",
       "    <tr>\n",
       "      <th>7195</th>\n",
       "      <td>HP</td>\n",
       "      <td>Intel i9</td>\n",
       "      <td>64</td>\n",
       "      <td>1TB SSD</td>\n",
       "      <td>AMD Radeon RX 6800</td>\n",
       "      <td>17.3</td>\n",
       "      <td>2560x1440</td>\n",
       "      <td>10.2</td>\n",
       "      <td>2.84</td>\n",
       "      <td>Windows</td>\n",
       "      <td>5342.79</td>\n",
       "      <td>463380.18</td>\n",
       "    </tr>\n",
       "    <tr>\n",
       "      <th>6094</th>\n",
       "      <td>Apple</td>\n",
       "      <td>Intel i9</td>\n",
       "      <td>64</td>\n",
       "      <td>1TB SSD</td>\n",
       "      <td>Integrated</td>\n",
       "      <td>17.3</td>\n",
       "      <td>2560x1440</td>\n",
       "      <td>7.4</td>\n",
       "      <td>3.43</td>\n",
       "      <td>FreeDOS</td>\n",
       "      <td>5395.18</td>\n",
       "      <td>467923.96</td>\n",
       "    </tr>\n",
       "    <tr>\n",
       "      <th>1309</th>\n",
       "      <td>MSI</td>\n",
       "      <td>Intel i9</td>\n",
       "      <td>64</td>\n",
       "      <td>1TB SSD</td>\n",
       "      <td>Nvidia RTX 3060</td>\n",
       "      <td>17.3</td>\n",
       "      <td>2560x1440</td>\n",
       "      <td>10.7</td>\n",
       "      <td>2.34</td>\n",
       "      <td>FreeDOS</td>\n",
       "      <td>7107.37</td>\n",
       "      <td>616422.20</td>\n",
       "    </tr>\n",
       "    <tr>\n",
       "      <th>6930</th>\n",
       "      <td>Apple</td>\n",
       "      <td>Intel i9</td>\n",
       "      <td>64</td>\n",
       "      <td>1TB SSD</td>\n",
       "      <td>Integrated</td>\n",
       "      <td>17.3</td>\n",
       "      <td>3840x2160</td>\n",
       "      <td>10.0</td>\n",
       "      <td>3.44</td>\n",
       "      <td>macOS</td>\n",
       "      <td>7184.80</td>\n",
       "      <td>623137.70</td>\n",
       "    </tr>\n",
       "    <tr>\n",
       "      <th>850</th>\n",
       "      <td>Microsoft</td>\n",
       "      <td>Intel i9</td>\n",
       "      <td>64</td>\n",
       "      <td>1TB SSD</td>\n",
       "      <td>Nvidia RTX 3060</td>\n",
       "      <td>17.3</td>\n",
       "      <td>3840x2160</td>\n",
       "      <td>10.2</td>\n",
       "      <td>1.84</td>\n",
       "      <td>Linux</td>\n",
       "      <td>7204.60</td>\n",
       "      <td>624854.96</td>\n",
       "    </tr>\n",
       "    <tr>\n",
       "      <th>11171</th>\n",
       "      <td>Asus</td>\n",
       "      <td>Intel i9</td>\n",
       "      <td>64</td>\n",
       "      <td>1TB SSD</td>\n",
       "      <td>Nvidia RTX 3080</td>\n",
       "      <td>17.3</td>\n",
       "      <td>3840x2160</td>\n",
       "      <td>9.3</td>\n",
       "      <td>2.12</td>\n",
       "      <td>FreeDOS</td>\n",
       "      <td>7226.53</td>\n",
       "      <td>626756.95</td>\n",
       "    </tr>\n",
       "    <tr>\n",
       "      <th>6433</th>\n",
       "      <td>Razer</td>\n",
       "      <td>Intel i9</td>\n",
       "      <td>64</td>\n",
       "      <td>1TB SSD</td>\n",
       "      <td>Nvidia RTX 3060</td>\n",
       "      <td>17.3</td>\n",
       "      <td>2560x1440</td>\n",
       "      <td>6.4</td>\n",
       "      <td>1.46</td>\n",
       "      <td>FreeDOS</td>\n",
       "      <td>7457.76</td>\n",
       "      <td>646811.52</td>\n",
       "    </tr>\n",
       "    <tr>\n",
       "      <th>9990</th>\n",
       "      <td>MSI</td>\n",
       "      <td>Intel i9</td>\n",
       "      <td>64</td>\n",
       "      <td>1TB SSD</td>\n",
       "      <td>Nvidia RTX 3060</td>\n",
       "      <td>17.3</td>\n",
       "      <td>3840x2160</td>\n",
       "      <td>5.2</td>\n",
       "      <td>2.33</td>\n",
       "      <td>FreeDOS</td>\n",
       "      <td>9243.65</td>\n",
       "      <td>801701.76</td>\n",
       "    </tr>\n",
       "    <tr>\n",
       "      <th>11685</th>\n",
       "      <td>MSI</td>\n",
       "      <td>Intel i9</td>\n",
       "      <td>64</td>\n",
       "      <td>1TB SSD</td>\n",
       "      <td>Nvidia RTX 2060</td>\n",
       "      <td>17.3</td>\n",
       "      <td>3840x2160</td>\n",
       "      <td>4.6</td>\n",
       "      <td>1.81</td>\n",
       "      <td>Linux</td>\n",
       "      <td>9419.75</td>\n",
       "      <td>816974.92</td>\n",
       "    </tr>\n",
       "  </tbody>\n",
       "</table>\n",
       "</div>"
      ],
      "text/plain": [
       "           Brand Processor  RAM (GB)  Storage                 GPU  \\\n",
       "6386        Dell  Intel i9        64  1TB SSD     Nvidia RTX 3080   \n",
       "7211     Samsung  Intel i9        64  1TB SSD          Integrated   \n",
       "7129   Microsoft  Intel i9        64  1TB SSD          Integrated   \n",
       "6958        Asus  Intel i9        64  1TB SSD     Nvidia RTX 3080   \n",
       "11526  Microsoft  Intel i9        64  1TB SSD  AMD Radeon RX 6600   \n",
       "3611        Acer  Intel i9        64  1TB SSD     Nvidia RTX 3080   \n",
       "8253          HP  Intel i9        64  1TB SSD          Integrated   \n",
       "7195          HP  Intel i9        64  1TB SSD  AMD Radeon RX 6800   \n",
       "6094       Apple  Intel i9        64  1TB SSD          Integrated   \n",
       "1309         MSI  Intel i9        64  1TB SSD     Nvidia RTX 3060   \n",
       "6930       Apple  Intel i9        64  1TB SSD          Integrated   \n",
       "850    Microsoft  Intel i9        64  1TB SSD     Nvidia RTX 3060   \n",
       "11171       Asus  Intel i9        64  1TB SSD     Nvidia RTX 3080   \n",
       "6433       Razer  Intel i9        64  1TB SSD     Nvidia RTX 3060   \n",
       "9990         MSI  Intel i9        64  1TB SSD     Nvidia RTX 3060   \n",
       "11685        MSI  Intel i9        64  1TB SSD     Nvidia RTX 2060   \n",
       "\n",
       "       Screen Size (inch) Resolution  Battery Life (hours)  Weight (kg)  \\\n",
       "6386                 17.3   1366x768                   5.1         2.57   \n",
       "7211                 17.3  2560x1440                   8.9         1.20   \n",
       "7129                 17.3  2560x1440                  10.5         1.38   \n",
       "6958                 17.3   1366x768                   7.1         1.46   \n",
       "11526                17.3  1920x1080                   7.5         1.65   \n",
       "3611                 17.3  1920x1080                   8.5         2.55   \n",
       "8253                 17.3  3840x2160                   7.0         3.08   \n",
       "7195                 17.3  2560x1440                  10.2         2.84   \n",
       "6094                 17.3  2560x1440                   7.4         3.43   \n",
       "1309                 17.3  2560x1440                  10.7         2.34   \n",
       "6930                 17.3  3840x2160                  10.0         3.44   \n",
       "850                  17.3  3840x2160                  10.2         1.84   \n",
       "11171                17.3  3840x2160                   9.3         2.12   \n",
       "6433                 17.3  2560x1440                   6.4         1.46   \n",
       "9990                 17.3  3840x2160                   5.2         2.33   \n",
       "11685                17.3  3840x2160                   4.6         1.81   \n",
       "\n",
       "      Operating System  Price ($)        INR  \n",
       "6386             Linux    3608.14  312933.98  \n",
       "7211           Windows    3704.72  321310.37  \n",
       "7129           FreeDOS    3707.39  321541.93  \n",
       "6958             macOS    3717.81  322445.66  \n",
       "11526          FreeDOS    4290.14  372083.84  \n",
       "3611           Windows    4306.51  373503.61  \n",
       "8253             Linux    4879.98  423240.67  \n",
       "7195           Windows    5342.79  463380.18  \n",
       "6094           FreeDOS    5395.18  467923.96  \n",
       "1309           FreeDOS    7107.37  616422.20  \n",
       "6930             macOS    7184.80  623137.70  \n",
       "850              Linux    7204.60  624854.96  \n",
       "11171          FreeDOS    7226.53  626756.95  \n",
       "6433           FreeDOS    7457.76  646811.52  \n",
       "9990           FreeDOS    9243.65  801701.76  \n",
       "11685            Linux    9419.75  816974.92  "
      ]
     },
     "execution_count": 83,
     "metadata": {},
     "output_type": "execute_result"
    }
   ],
   "source": [
    "best.sort_values(by=['INR'])"
   ]
  },
  {
   "cell_type": "markdown",
   "id": "f34b7582-f3db-4ef7-a554-58a4a070846e",
   "metadata": {},
   "source": [
    "## top 5"
   ]
  },
  {
   "cell_type": "code",
   "execution_count": 84,
   "id": "5599c235-30a5-431b-8fcc-47dce9598102",
   "metadata": {},
   "outputs": [
    {
     "data": {
      "text/html": [
       "<div>\n",
       "<style scoped>\n",
       "    .dataframe tbody tr th:only-of-type {\n",
       "        vertical-align: middle;\n",
       "    }\n",
       "\n",
       "    .dataframe tbody tr th {\n",
       "        vertical-align: top;\n",
       "    }\n",
       "\n",
       "    .dataframe thead th {\n",
       "        text-align: right;\n",
       "    }\n",
       "</style>\n",
       "<table border=\"1\" class=\"dataframe\">\n",
       "  <thead>\n",
       "    <tr style=\"text-align: right;\">\n",
       "      <th></th>\n",
       "      <th>Brand</th>\n",
       "      <th>Processor</th>\n",
       "      <th>RAM (GB)</th>\n",
       "      <th>Storage</th>\n",
       "      <th>GPU</th>\n",
       "      <th>Screen Size (inch)</th>\n",
       "      <th>Resolution</th>\n",
       "      <th>Battery Life (hours)</th>\n",
       "      <th>Weight (kg)</th>\n",
       "      <th>Operating System</th>\n",
       "      <th>Price ($)</th>\n",
       "      <th>INR</th>\n",
       "    </tr>\n",
       "  </thead>\n",
       "  <tbody>\n",
       "    <tr>\n",
       "      <th>6386</th>\n",
       "      <td>Dell</td>\n",
       "      <td>Intel i9</td>\n",
       "      <td>64</td>\n",
       "      <td>1TB SSD</td>\n",
       "      <td>Nvidia RTX 3080</td>\n",
       "      <td>17.3</td>\n",
       "      <td>1366x768</td>\n",
       "      <td>5.1</td>\n",
       "      <td>2.57</td>\n",
       "      <td>Linux</td>\n",
       "      <td>3608.14</td>\n",
       "      <td>312933.98</td>\n",
       "    </tr>\n",
       "    <tr>\n",
       "      <th>7211</th>\n",
       "      <td>Samsung</td>\n",
       "      <td>Intel i9</td>\n",
       "      <td>64</td>\n",
       "      <td>1TB SSD</td>\n",
       "      <td>Integrated</td>\n",
       "      <td>17.3</td>\n",
       "      <td>2560x1440</td>\n",
       "      <td>8.9</td>\n",
       "      <td>1.20</td>\n",
       "      <td>Windows</td>\n",
       "      <td>3704.72</td>\n",
       "      <td>321310.37</td>\n",
       "    </tr>\n",
       "    <tr>\n",
       "      <th>7129</th>\n",
       "      <td>Microsoft</td>\n",
       "      <td>Intel i9</td>\n",
       "      <td>64</td>\n",
       "      <td>1TB SSD</td>\n",
       "      <td>Integrated</td>\n",
       "      <td>17.3</td>\n",
       "      <td>2560x1440</td>\n",
       "      <td>10.5</td>\n",
       "      <td>1.38</td>\n",
       "      <td>FreeDOS</td>\n",
       "      <td>3707.39</td>\n",
       "      <td>321541.93</td>\n",
       "    </tr>\n",
       "    <tr>\n",
       "      <th>6958</th>\n",
       "      <td>Asus</td>\n",
       "      <td>Intel i9</td>\n",
       "      <td>64</td>\n",
       "      <td>1TB SSD</td>\n",
       "      <td>Nvidia RTX 3080</td>\n",
       "      <td>17.3</td>\n",
       "      <td>1366x768</td>\n",
       "      <td>7.1</td>\n",
       "      <td>1.46</td>\n",
       "      <td>macOS</td>\n",
       "      <td>3717.81</td>\n",
       "      <td>322445.66</td>\n",
       "    </tr>\n",
       "    <tr>\n",
       "      <th>11526</th>\n",
       "      <td>Microsoft</td>\n",
       "      <td>Intel i9</td>\n",
       "      <td>64</td>\n",
       "      <td>1TB SSD</td>\n",
       "      <td>AMD Radeon RX 6600</td>\n",
       "      <td>17.3</td>\n",
       "      <td>1920x1080</td>\n",
       "      <td>7.5</td>\n",
       "      <td>1.65</td>\n",
       "      <td>FreeDOS</td>\n",
       "      <td>4290.14</td>\n",
       "      <td>372083.84</td>\n",
       "    </tr>\n",
       "  </tbody>\n",
       "</table>\n",
       "</div>"
      ],
      "text/plain": [
       "           Brand Processor  RAM (GB)  Storage                 GPU  \\\n",
       "6386        Dell  Intel i9        64  1TB SSD     Nvidia RTX 3080   \n",
       "7211     Samsung  Intel i9        64  1TB SSD          Integrated   \n",
       "7129   Microsoft  Intel i9        64  1TB SSD          Integrated   \n",
       "6958        Asus  Intel i9        64  1TB SSD     Nvidia RTX 3080   \n",
       "11526  Microsoft  Intel i9        64  1TB SSD  AMD Radeon RX 6600   \n",
       "\n",
       "       Screen Size (inch) Resolution  Battery Life (hours)  Weight (kg)  \\\n",
       "6386                 17.3   1366x768                   5.1         2.57   \n",
       "7211                 17.3  2560x1440                   8.9         1.20   \n",
       "7129                 17.3  2560x1440                  10.5         1.38   \n",
       "6958                 17.3   1366x768                   7.1         1.46   \n",
       "11526                17.3  1920x1080                   7.5         1.65   \n",
       "\n",
       "      Operating System  Price ($)        INR  \n",
       "6386             Linux    3608.14  312933.98  \n",
       "7211           Windows    3704.72  321310.37  \n",
       "7129           FreeDOS    3707.39  321541.93  \n",
       "6958             macOS    3717.81  322445.66  \n",
       "11526          FreeDOS    4290.14  372083.84  "
      ]
     },
     "execution_count": 84,
     "metadata": {},
     "output_type": "execute_result"
    }
   ],
   "source": [
    "best.sort_values(by=['INR']).head()"
   ]
  },
  {
   "cell_type": "markdown",
   "id": "39c6691c-f27d-49d4-812f-71ad6178cfa3",
   "metadata": {},
   "source": [
    "## 21.Apple laptop with Intel i9 processor "
   ]
  },
  {
   "cell_type": "code",
   "execution_count": 48,
   "id": "e22da5e0-9aa4-4c0f-b9bb-34eb3436f562",
   "metadata": {},
   "outputs": [
    {
     "data": {
      "text/html": [
       "<div>\n",
       "<style scoped>\n",
       "    .dataframe tbody tr th:only-of-type {\n",
       "        vertical-align: middle;\n",
       "    }\n",
       "\n",
       "    .dataframe tbody tr th {\n",
       "        vertical-align: top;\n",
       "    }\n",
       "\n",
       "    .dataframe thead th {\n",
       "        text-align: right;\n",
       "    }\n",
       "</style>\n",
       "<table border=\"1\" class=\"dataframe\">\n",
       "  <thead>\n",
       "    <tr style=\"text-align: right;\">\n",
       "      <th></th>\n",
       "      <th>Brand</th>\n",
       "      <th>Processor</th>\n",
       "      <th>RAM (GB)</th>\n",
       "      <th>Storage</th>\n",
       "      <th>GPU</th>\n",
       "      <th>Screen Size (inch)</th>\n",
       "      <th>Resolution</th>\n",
       "      <th>Battery Life (hours)</th>\n",
       "      <th>Weight (kg)</th>\n",
       "      <th>Operating System</th>\n",
       "      <th>Price ($)</th>\n",
       "      <th>INR</th>\n",
       "    </tr>\n",
       "  </thead>\n",
       "  <tbody>\n",
       "    <tr>\n",
       "      <th>24</th>\n",
       "      <td>Apple</td>\n",
       "      <td>Intel i9</td>\n",
       "      <td>64</td>\n",
       "      <td>256GB SSD</td>\n",
       "      <td>Integrated</td>\n",
       "      <td>17.3</td>\n",
       "      <td>1920x1080</td>\n",
       "      <td>6.9</td>\n",
       "      <td>2.55</td>\n",
       "      <td>Windows</td>\n",
       "      <td>4428.68</td>\n",
       "      <td>384099.42</td>\n",
       "    </tr>\n",
       "    <tr>\n",
       "      <th>43</th>\n",
       "      <td>Apple</td>\n",
       "      <td>Intel i9</td>\n",
       "      <td>32</td>\n",
       "      <td>2TB SSD</td>\n",
       "      <td>Nvidia GTX 1650</td>\n",
       "      <td>17.3</td>\n",
       "      <td>2560x1440</td>\n",
       "      <td>5.7</td>\n",
       "      <td>1.83</td>\n",
       "      <td>Windows</td>\n",
       "      <td>5373.59</td>\n",
       "      <td>466051.46</td>\n",
       "    </tr>\n",
       "    <tr>\n",
       "      <th>92</th>\n",
       "      <td>Apple</td>\n",
       "      <td>Intel i9</td>\n",
       "      <td>16</td>\n",
       "      <td>1TB HDD</td>\n",
       "      <td>AMD Radeon RX 6800</td>\n",
       "      <td>16.0</td>\n",
       "      <td>2560x1440</td>\n",
       "      <td>9.4</td>\n",
       "      <td>2.65</td>\n",
       "      <td>FreeDOS</td>\n",
       "      <td>3428.94</td>\n",
       "      <td>297391.97</td>\n",
       "    </tr>\n",
       "    <tr>\n",
       "      <th>273</th>\n",
       "      <td>Apple</td>\n",
       "      <td>Intel i9</td>\n",
       "      <td>8</td>\n",
       "      <td>512GB SSD</td>\n",
       "      <td>Nvidia RTX 3060</td>\n",
       "      <td>16.0</td>\n",
       "      <td>2560x1440</td>\n",
       "      <td>6.7</td>\n",
       "      <td>2.51</td>\n",
       "      <td>macOS</td>\n",
       "      <td>3290.11</td>\n",
       "      <td>285351.24</td>\n",
       "    </tr>\n",
       "    <tr>\n",
       "      <th>507</th>\n",
       "      <td>Apple</td>\n",
       "      <td>Intel i9</td>\n",
       "      <td>64</td>\n",
       "      <td>256GB SSD</td>\n",
       "      <td>Nvidia GTX 1650</td>\n",
       "      <td>15.6</td>\n",
       "      <td>2560x1440</td>\n",
       "      <td>7.1</td>\n",
       "      <td>1.49</td>\n",
       "      <td>Windows</td>\n",
       "      <td>7966.98</td>\n",
       "      <td>690976.18</td>\n",
       "    </tr>\n",
       "    <tr>\n",
       "      <th>...</th>\n",
       "      <td>...</td>\n",
       "      <td>...</td>\n",
       "      <td>...</td>\n",
       "      <td>...</td>\n",
       "      <td>...</td>\n",
       "      <td>...</td>\n",
       "      <td>...</td>\n",
       "      <td>...</td>\n",
       "      <td>...</td>\n",
       "      <td>...</td>\n",
       "      <td>...</td>\n",
       "      <td>...</td>\n",
       "    </tr>\n",
       "    <tr>\n",
       "      <th>11169</th>\n",
       "      <td>Apple</td>\n",
       "      <td>Intel i9</td>\n",
       "      <td>64</td>\n",
       "      <td>1TB HDD</td>\n",
       "      <td>Nvidia GTX 1650</td>\n",
       "      <td>17.3</td>\n",
       "      <td>2560x1440</td>\n",
       "      <td>6.1</td>\n",
       "      <td>2.61</td>\n",
       "      <td>macOS</td>\n",
       "      <td>6873.51</td>\n",
       "      <td>596139.52</td>\n",
       "    </tr>\n",
       "    <tr>\n",
       "      <th>11332</th>\n",
       "      <td>Apple</td>\n",
       "      <td>Intel i9</td>\n",
       "      <td>16</td>\n",
       "      <td>512GB SSD</td>\n",
       "      <td>Nvidia GTX 1650</td>\n",
       "      <td>17.3</td>\n",
       "      <td>1366x768</td>\n",
       "      <td>5.6</td>\n",
       "      <td>2.37</td>\n",
       "      <td>Windows</td>\n",
       "      <td>2705.31</td>\n",
       "      <td>234631.54</td>\n",
       "    </tr>\n",
       "    <tr>\n",
       "      <th>11379</th>\n",
       "      <td>Apple</td>\n",
       "      <td>Intel i9</td>\n",
       "      <td>32</td>\n",
       "      <td>1TB SSD</td>\n",
       "      <td>Nvidia RTX 3080</td>\n",
       "      <td>16.0</td>\n",
       "      <td>1366x768</td>\n",
       "      <td>9.0</td>\n",
       "      <td>3.23</td>\n",
       "      <td>Linux</td>\n",
       "      <td>3510.91</td>\n",
       "      <td>304501.22</td>\n",
       "    </tr>\n",
       "    <tr>\n",
       "      <th>11415</th>\n",
       "      <td>Apple</td>\n",
       "      <td>Intel i9</td>\n",
       "      <td>4</td>\n",
       "      <td>256GB SSD</td>\n",
       "      <td>AMD Radeon RX 6600</td>\n",
       "      <td>15.6</td>\n",
       "      <td>2560x1440</td>\n",
       "      <td>10.5</td>\n",
       "      <td>1.96</td>\n",
       "      <td>Linux</td>\n",
       "      <td>3072.98</td>\n",
       "      <td>266519.56</td>\n",
       "    </tr>\n",
       "    <tr>\n",
       "      <th>11632</th>\n",
       "      <td>Apple</td>\n",
       "      <td>Intel i9</td>\n",
       "      <td>16</td>\n",
       "      <td>1TB SSD</td>\n",
       "      <td>Integrated</td>\n",
       "      <td>13.3</td>\n",
       "      <td>1920x1080</td>\n",
       "      <td>10.9</td>\n",
       "      <td>1.62</td>\n",
       "      <td>FreeDOS</td>\n",
       "      <td>2015.78</td>\n",
       "      <td>174828.60</td>\n",
       "    </tr>\n",
       "  </tbody>\n",
       "</table>\n",
       "<p>136 rows × 12 columns</p>\n",
       "</div>"
      ],
      "text/plain": [
       "       Brand Processor  RAM (GB)    Storage                 GPU  \\\n",
       "24     Apple  Intel i9        64  256GB SSD          Integrated   \n",
       "43     Apple  Intel i9        32    2TB SSD     Nvidia GTX 1650   \n",
       "92     Apple  Intel i9        16    1TB HDD  AMD Radeon RX 6800   \n",
       "273    Apple  Intel i9         8  512GB SSD     Nvidia RTX 3060   \n",
       "507    Apple  Intel i9        64  256GB SSD     Nvidia GTX 1650   \n",
       "...      ...       ...       ...        ...                 ...   \n",
       "11169  Apple  Intel i9        64    1TB HDD     Nvidia GTX 1650   \n",
       "11332  Apple  Intel i9        16  512GB SSD     Nvidia GTX 1650   \n",
       "11379  Apple  Intel i9        32    1TB SSD     Nvidia RTX 3080   \n",
       "11415  Apple  Intel i9         4  256GB SSD  AMD Radeon RX 6600   \n",
       "11632  Apple  Intel i9        16    1TB SSD          Integrated   \n",
       "\n",
       "       Screen Size (inch) Resolution  Battery Life (hours)  Weight (kg)  \\\n",
       "24                   17.3  1920x1080                   6.9         2.55   \n",
       "43                   17.3  2560x1440                   5.7         1.83   \n",
       "92                   16.0  2560x1440                   9.4         2.65   \n",
       "273                  16.0  2560x1440                   6.7         2.51   \n",
       "507                  15.6  2560x1440                   7.1         1.49   \n",
       "...                   ...        ...                   ...          ...   \n",
       "11169                17.3  2560x1440                   6.1         2.61   \n",
       "11332                17.3   1366x768                   5.6         2.37   \n",
       "11379                16.0   1366x768                   9.0         3.23   \n",
       "11415                15.6  2560x1440                  10.5         1.96   \n",
       "11632                13.3  1920x1080                  10.9         1.62   \n",
       "\n",
       "      Operating System  Price ($)        INR  \n",
       "24             Windows    4428.68  384099.42  \n",
       "43             Windows    5373.59  466051.46  \n",
       "92             FreeDOS    3428.94  297391.97  \n",
       "273              macOS    3290.11  285351.24  \n",
       "507            Windows    7966.98  690976.18  \n",
       "...                ...        ...        ...  \n",
       "11169            macOS    6873.51  596139.52  \n",
       "11332          Windows    2705.31  234631.54  \n",
       "11379            Linux    3510.91  304501.22  \n",
       "11415            Linux    3072.98  266519.56  \n",
       "11632          FreeDOS    2015.78  174828.60  \n",
       "\n",
       "[136 rows x 12 columns]"
      ]
     },
     "execution_count": 48,
     "metadata": {},
     "output_type": "execute_result"
    }
   ],
   "source": [
    "df[(df['Brand']=='Apple')&( df['Processor']=='Intel i9' )]"
   ]
  },
  {
   "cell_type": "markdown",
   "id": "2e3eed5b-cd52-4b30-8f92-dce5eb90793a",
   "metadata": {},
   "source": [
    "## 22.What is the price distribution across different RAM sizes?\n",
    "\n"
   ]
  },
  {
   "cell_type": "code",
   "execution_count": 49,
   "id": "49b19383-8778-4672-a0a0-1b29d956b789",
   "metadata": {},
   "outputs": [],
   "source": [
    "import matplotlib.pyplot as plt"
   ]
  },
  {
   "cell_type": "code",
   "execution_count": 50,
   "id": "c38d75bf-f746-4b17-99b1-201db6d91bef",
   "metadata": {},
   "outputs": [
    {
     "data": {
      "text/plain": [
       "<Figure size 2000x500 with 0 Axes>"
      ]
     },
     "execution_count": 50,
     "metadata": {},
     "output_type": "execute_result"
    },
    {
     "data": {
      "image/png": "[encoded data removed]",
      "text/plain": [
       "<Figure size 640x480 with 1 Axes>"
      ]
     },
     "metadata": {},
     "output_type": "display_data"
    },
    {
     "data": {
      "text/plain": [
       "<Figure size 2000x500 with 0 Axes>"
      ]
     },
     "metadata": {},
     "output_type": "display_data"
    }
   ],
   "source": [
    "sns.barplot(x='RAM (GB)',y='Price ($)',data=df)\n",
    "plt.figure(figsize=(20, 5))"
   ]
  },
  {
   "cell_type": "markdown",
   "id": "1e7de8fa-ab72-4533-bc13-349c322432cd",
   "metadata": {},
   "source": [
    "## 23.How does the combination of CPU and GPU affect the price?\n"
   ]
  },
  {
   "cell_type": "code",
   "execution_count": 51,
   "id": "b12210a1-5cea-4a49-b8af-d00382f6bfec",
   "metadata": {},
   "outputs": [
    {
     "data": {
      "text/html": [
       "<div>\n",
       "<style scoped>\n",
       "    .dataframe tbody tr th:only-of-type {\n",
       "        vertical-align: middle;\n",
       "    }\n",
       "\n",
       "    .dataframe tbody tr th {\n",
       "        vertical-align: top;\n",
       "    }\n",
       "\n",
       "    .dataframe thead th {\n",
       "        text-align: right;\n",
       "    }\n",
       "</style>\n",
       "<table border=\"1\" class=\"dataframe\">\n",
       "  <thead>\n",
       "    <tr style=\"text-align: right;\">\n",
       "      <th>GPU</th>\n",
       "      <th>AMD Radeon RX 6600</th>\n",
       "      <th>AMD Radeon RX 6800</th>\n",
       "      <th>Integrated</th>\n",
       "      <th>Nvidia GTX 1650</th>\n",
       "      <th>Nvidia RTX 2060</th>\n",
       "      <th>Nvidia RTX 3060</th>\n",
       "      <th>Nvidia RTX 3080</th>\n",
       "    </tr>\n",
       "    <tr>\n",
       "      <th>Processor</th>\n",
       "      <th></th>\n",
       "      <th></th>\n",
       "      <th></th>\n",
       "      <th></th>\n",
       "      <th></th>\n",
       "      <th></th>\n",
       "      <th></th>\n",
       "    </tr>\n",
       "  </thead>\n",
       "  <tbody>\n",
       "    <tr>\n",
       "      <th>AMD Ryzen 3</th>\n",
       "      <td>1663.212121</td>\n",
       "      <td>1637.577018</td>\n",
       "      <td>1015.795349</td>\n",
       "      <td>1618.380226</td>\n",
       "      <td>1588.139532</td>\n",
       "      <td>1594.105360</td>\n",
       "      <td>1638.268848</td>\n",
       "    </tr>\n",
       "    <tr>\n",
       "      <th>AMD Ryzen 5</th>\n",
       "      <td>1981.647846</td>\n",
       "      <td>2006.433731</td>\n",
       "      <td>1228.621649</td>\n",
       "      <td>1985.913592</td>\n",
       "      <td>1883.834645</td>\n",
       "      <td>1930.389220</td>\n",
       "      <td>1988.333716</td>\n",
       "    </tr>\n",
       "    <tr>\n",
       "      <th>AMD Ryzen 7</th>\n",
       "      <td>2324.701408</td>\n",
       "      <td>2302.427569</td>\n",
       "      <td>1661.084807</td>\n",
       "      <td>2466.032300</td>\n",
       "      <td>2373.063731</td>\n",
       "      <td>2374.070303</td>\n",
       "      <td>2372.390000</td>\n",
       "    </tr>\n",
       "    <tr>\n",
       "      <th>AMD Ryzen 9</th>\n",
       "      <td>3157.473493</td>\n",
       "      <td>3360.026411</td>\n",
       "      <td>2159.713262</td>\n",
       "      <td>3202.098507</td>\n",
       "      <td>3164.723836</td>\n",
       "      <td>3207.926980</td>\n",
       "      <td>3113.366934</td>\n",
       "    </tr>\n",
       "    <tr>\n",
       "      <th>Intel i3</th>\n",
       "      <td>1692.604146</td>\n",
       "      <td>1548.428263</td>\n",
       "      <td>1077.154083</td>\n",
       "      <td>1671.863188</td>\n",
       "      <td>1602.026432</td>\n",
       "      <td>1694.541204</td>\n",
       "      <td>1646.569204</td>\n",
       "    </tr>\n",
       "    <tr>\n",
       "      <th>Intel i5</th>\n",
       "      <td>1988.641207</td>\n",
       "      <td>1990.683515</td>\n",
       "      <td>1286.483767</td>\n",
       "      <td>1848.811313</td>\n",
       "      <td>1881.620486</td>\n",
       "      <td>2021.655415</td>\n",
       "      <td>1819.828967</td>\n",
       "    </tr>\n",
       "    <tr>\n",
       "      <th>Intel i7</th>\n",
       "      <td>2357.086303</td>\n",
       "      <td>2388.945980</td>\n",
       "      <td>1692.139193</td>\n",
       "      <td>2438.442100</td>\n",
       "      <td>2499.649060</td>\n",
       "      <td>2451.757550</td>\n",
       "      <td>2297.208624</td>\n",
       "    </tr>\n",
       "    <tr>\n",
       "      <th>Intel i9</th>\n",
       "      <td>3080.745050</td>\n",
       "      <td>3320.599434</td>\n",
       "      <td>2089.164474</td>\n",
       "      <td>3181.624929</td>\n",
       "      <td>3225.538357</td>\n",
       "      <td>3400.116797</td>\n",
       "      <td>3168.563951</td>\n",
       "    </tr>\n",
       "  </tbody>\n",
       "</table>\n",
       "</div>"
      ],
      "text/plain": [
       "GPU          AMD Radeon RX 6600  AMD Radeon RX 6800   Integrated  \\\n",
       "Processor                                                          \n",
       "AMD Ryzen 3         1663.212121         1637.577018  1015.795349   \n",
       "AMD Ryzen 5         1981.647846         2006.433731  1228.621649   \n",
       "AMD Ryzen 7         2324.701408         2302.427569  1661.084807   \n",
       "AMD Ryzen 9         3157.473493         3360.026411  2159.713262   \n",
       "Intel i3            1692.604146         1548.428263  1077.154083   \n",
       "Intel i5            1988.641207         1990.683515  1286.483767   \n",
       "Intel i7            2357.086303         2388.945980  1692.139193   \n",
       "Intel i9            3080.745050         3320.599434  2089.164474   \n",
       "\n",
       "GPU          Nvidia GTX 1650  Nvidia RTX 2060  Nvidia RTX 3060  \\\n",
       "Processor                                                        \n",
       "AMD Ryzen 3      1618.380226      1588.139532      1594.105360   \n",
       "AMD Ryzen 5      1985.913592      1883.834645      1930.389220   \n",
       "AMD Ryzen 7      2466.032300      2373.063731      2374.070303   \n",
       "AMD Ryzen 9      3202.098507      3164.723836      3207.926980   \n",
       "Intel i3         1671.863188      1602.026432      1694.541204   \n",
       "Intel i5         1848.811313      1881.620486      2021.655415   \n",
       "Intel i7         2438.442100      2499.649060      2451.757550   \n",
       "Intel i9         3181.624929      3225.538357      3400.116797   \n",
       "\n",
       "GPU          Nvidia RTX 3080  \n",
       "Processor                     \n",
       "AMD Ryzen 3      1638.268848  \n",
       "AMD Ryzen 5      1988.333716  \n",
       "AMD Ryzen 7      2372.390000  \n",
       "AMD Ryzen 9      3113.366934  \n",
       "Intel i3         1646.569204  \n",
       "Intel i5         1819.828967  \n",
       "Intel i7         2297.208624  \n",
       "Intel i9         3168.563951  "
      ]
     },
     "execution_count": 51,
     "metadata": {},
     "output_type": "execute_result"
    }
   ],
   "source": [
    "cpu_gpu_pivot = df.pivot_table(index='Processor', columns='GPU', values='Price ($)', aggfunc='mean')\n",
    "\n",
    "cpu_gpu_pivot\n"
   ]
  },
  {
   "cell_type": "markdown",
   "id": "30892dd9-af96-46df-8825-2c710b261dbe",
   "metadata": {},
   "source": [
    "## 23.Average laptop price by processor and GPU"
   ]
  },
  {
   "cell_type": "code",
   "execution_count": 87,
   "id": "dd14e00e-dcd0-4643-954d-c338dc6c28f6",
   "metadata": {},
   "outputs": [
    {
     "data": {
      "text/plain": [
       "Text(0.5, 1.0, 'Average Laptop Price by Processor and GPU')"
      ]
     },
     "execution_count": 87,
     "metadata": {},
     "output_type": "execute_result"
    },
    {
     "data": {
      "image/png": "[encoded data removed]",
      "text/plain": [
       "<Figure size 2000x1200 with 2 Axes>"
      ]
     },
     "metadata": {},
     "output_type": "display_data"
    }
   ],
   "source": [
    "plt.figure(figsize=(20, 12))  \n",
    "sns.heatmap(cpu_gpu_pivot,annot=True,linewidth=0.5,fmt='.0f')\n",
    "\n",
    "plt.xlabel('GPU')  \n",
    "plt.ylabel('Processor')   \n",
    "plt.title('Average Laptop Price by Processor and GPU')"
   ]
  },
  {
   "cell_type": "markdown",
   "id": "2e822b46-3ccc-4b8e-ab14-134b73013c38",
   "metadata": {},
   "source": [
    "## 24.Average Price by Brand and Processor"
   ]
  },
  {
   "cell_type": "code",
   "execution_count": 87,
   "id": "4fc3e49b-b573-4fed-bd18-222ce9e65fa8",
   "metadata": {},
   "outputs": [],
   "source": [
    "avg_price=df.pivot_table(index='Brand',columns='Processor',values='Price ($)' ,aggfunc='mean')"
   ]
  },
  {
   "cell_type": "code",
   "execution_count": 104,
   "id": "a8233fa7-eebd-477f-a8b2-213df95d8a55",
   "metadata": {},
   "outputs": [
    {
     "data": {
      "text/plain": [
       "<Axes: xlabel='Processor', ylabel='Brand'>"
      ]
     },
     "execution_count": 104,
     "metadata": {},
     "output_type": "execute_result"
    },
    {
     "data": {
      "image/png": "[encoded data removed]",
      "text/plain": [
       "<Figure size 2000x1000 with 2 Axes>"
      ]
     },
     "metadata": {},
     "output_type": "display_data"
    }
   ],
   "source": [
    "plt.figure(figsize=(20,10))\n",
    "sns.heatmap(avg_price,annot=True,fmt='.0f',cmap='Blues')\n"
   ]
  },
  {
   "cell_type": "code",
   "execution_count": null,
   "id": "8a56e187-7b3e-4728-acfa-07e3023275c3",
   "metadata": {},
   "outputs": [],
   "source": []
  },
  {
   "cell_type": "code",
   "execution_count": null,
   "id": "5da10a64-4051-49e6-9998-553a51087299",
   "metadata": {},
   "outputs": [],
   "source": []
  },
  {
   "cell_type": "code",
   "execution_count": null,
   "id": "43bd6519-611c-4103-b9da-8be11f0d433a",
   "metadata": {},
   "outputs": [],
   "source": []
  },
  {
   "cell_type": "code",
   "execution_count": null,
   "id": "abca630b-6205-4da0-a70a-1c8dfec41c30",
   "metadata": {},
   "outputs": [],
   "source": []
  },
  {
   "cell_type": "code",
   "execution_count": null,
   "id": "408262ab-cec0-41fd-82f3-45cda8fb7087",
   "metadata": {},
   "outputs": [],
   "source": []
  },
  {
   "cell_type": "code",
   "execution_count": null,
   "id": "c42a6d1e-3afe-44c9-969f-4b4e202dfb0b",
   "metadata": {},
   "outputs": [],
   "source": []
  },
  {
   "cell_type": "code",
   "execution_count": null,
   "id": "3469fb2e-6d24-4feb-ac4d-83c589bcb2f9",
   "metadata": {},
   "outputs": [],
   "source": []
  },
  {
   "cell_type": "code",
   "execution_count": null,
   "id": "d65f9253-15ec-4329-a32f-821f7b3c1a0a",
   "metadata": {},
   "outputs": [],
   "source": []
  },
  {
   "cell_type": "code",
   "execution_count": null,
   "id": "29727af6-ac9c-4ec8-9b4e-9dd59df70bc3",
   "metadata": {},
   "outputs": [],
   "source": []
  },
  {
   "cell_type": "code",
   "execution_count": null,
   "id": "734e9d8e-b2be-42e6-8586-18e3af471b73",
   "metadata": {},
   "outputs": [],
   "source": []
  },
  {
   "cell_type": "code",
   "execution_count": null,
   "id": "bbdba46b-704b-41ab-abc8-208ad87aefa9",
   "metadata": {},
   "outputs": [],
   "source": []
  },
  {
   "cell_type": "code",
   "execution_count": null,
   "id": "33587088-ea2b-40ed-9ca6-63c1d65eae0f",
   "metadata": {},
   "outputs": [],
   "source": []
  },
  {
   "cell_type": "code",
   "execution_count": null,
   "id": "d1b3a5e7-1bd8-45b6-b2cf-02ec599a8d84",
   "metadata": {},
   "outputs": [],
   "source": []
  },
  {
   "cell_type": "code",
   "execution_count": null,
   "id": "0ebd0f4d-b569-4e55-a097-d0f868a30f45",
   "metadata": {},
   "outputs": [],
   "source": []
  },
  {
   "cell_type": "code",
   "execution_count": null,
   "id": "a7bdf36a-2b72-47e6-b24c-2cedc7b21ebd",
   "metadata": {},
   "outputs": [],
   "source": []
  },
  {
   "cell_type": "code",
   "execution_count": null,
   "id": "4771fd90-f783-47e6-bb4a-600536d17b0e",
   "metadata": {},
   "outputs": [],
   "source": []
  },
  {
   "cell_type": "code",
   "execution_count": null,
   "id": "c242fc20-725a-4f17-93f0-7043ada32c14",
   "metadata": {},
   "outputs": [],
   "source": []
  },
  {
   "cell_type": "code",
   "execution_count": null,
   "id": "ed442b84-f0b0-4a93-8151-a67f944bdf00",
   "metadata": {},
   "outputs": [],
   "source": []
  },
  {
   "cell_type": "code",
   "execution_count": null,
   "id": "772de219-8ea5-4aec-a81c-08bebccad783",
   "metadata": {},
   "outputs": [],
   "source": []
  },
  {
   "cell_type": "code",
   "execution_count": null,
   "id": "0100b586-2b0d-462e-9d0e-f88aae01bc4f",
   "metadata": {},
   "outputs": [],
   "source": []
  },
  {
   "cell_type": "code",
   "execution_count": null,
   "id": "760c8417-5aa7-4c8b-b42a-558de138c9dd",
   "metadata": {},
   "outputs": [],
   "source": []
  },
  {
   "cell_type": "code",
   "execution_count": null,
   "id": "ef6e2169-98ef-4b04-9ef4-2a8638175ebb",
   "metadata": {},
   "outputs": [],
   "source": []
  },
  {
   "cell_type": "code",
   "execution_count": null,
   "id": "f0575279-3d0b-47ca-b47e-b5670b6c1786",
   "metadata": {},
   "outputs": [],
   "source": []
  },
  {
   "cell_type": "code",
   "execution_count": null,
   "id": "caf8cb9f-b873-4e31-a251-7d63eee08bd7",
   "metadata": {},
   "outputs": [],
   "source": []
  },
  {
   "cell_type": "code",
   "execution_count": null,
   "id": "81fd88d7-cffe-4f80-9f75-34d5b3340ae6",
   "metadata": {},
   "outputs": [],
   "source": []
  },
  {
   "cell_type": "code",
   "execution_count": null,
   "id": "b1ebe298-60ea-4a52-96b8-c91262fca617",
   "metadata": {},
   "outputs": [],
   "source": []
  },
  {
   "cell_type": "code",
   "execution_count": null,
   "id": "0cf31140-b8ea-4c11-afc7-1bf19d784d4b",
   "metadata": {},
   "outputs": [],
   "source": []
  },
  {
   "cell_type": "code",
   "execution_count": null,
   "id": "9291edae-5113-454e-9018-2f165cf123a1",
   "metadata": {},
   "outputs": [],
   "source": []
  },
  {
   "cell_type": "code",
   "execution_count": null,
   "id": "acbd5410-3a4a-4391-94c7-d530a6b7598d",
   "metadata": {},
   "outputs": [],
   "source": []
  },
  {
   "cell_type": "code",
   "execution_count": null,
   "id": "7cb9c025-e458-44ca-ae40-4df7206ed498",
   "metadata": {},
   "outputs": [],
   "source": []
  },
  {
   "cell_type": "code",
   "execution_count": null,
   "id": "d375fa04-978f-4412-aa22-a650656ac16e",
   "metadata": {},
   "outputs": [],
   "source": []
  },
  {
   "cell_type": "code",
   "execution_count": null,
   "id": "6116b53f-432d-4791-a480-d571daf03b6e",
   "metadata": {},
   "outputs": [],
   "source": []
  },
  {
   "cell_type": "code",
   "execution_count": null,
   "id": "a5e89d91-319f-4ed8-b1d8-4564bd533568",
   "metadata": {},
   "outputs": [],
   "source": []
  },
  {
   "cell_type": "code",
   "execution_count": null,
   "id": "d956315a-1e0d-46e9-86a5-5317150d25de",
   "metadata": {},
   "outputs": [],
   "source": []
  },
  {
   "cell_type": "code",
   "execution_count": null,
   "id": "3f8ee025-7399-4f93-8b52-348d89dd9373",
   "metadata": {},
   "outputs": [],
   "source": []
  },
  {
   "cell_type": "code",
   "execution_count": null,
   "id": "7dc2b2bc-209d-4358-bfaf-edd79495fe46",
   "metadata": {},
   "outputs": [],
   "source": []
  },
  {
   "cell_type": "code",
   "execution_count": null,
   "id": "957d0d63-cfa1-40c7-aa2d-033f9cb8503e",
   "metadata": {},
   "outputs": [],
   "source": []
  },
  {
   "cell_type": "code",
   "execution_count": null,
   "id": "705ce008-6e28-4c17-8721-bbf4abfacd1c",
   "metadata": {},
   "outputs": [],
   "source": []
  },
  {
   "cell_type": "code",
   "execution_count": null,
   "id": "ef653507-5da3-4bd9-9a70-61528ead6d33",
   "metadata": {},
   "outputs": [],
   "source": []
  },
  {
   "cell_type": "code",
   "execution_count": null,
   "id": "002323fb-6a0d-45c9-b590-a48b4edcfc6f",
   "metadata": {},
   "outputs": [],
   "source": []
  },
  {
   "cell_type": "code",
   "execution_count": null,
   "id": "532148cc-ab3d-4a57-ad22-0ffb5c1772a1",
   "metadata": {},
   "outputs": [],
   "source": []
  },
  {
   "cell_type": "code",
   "execution_count": null,
   "id": "a0d17901-062c-42d7-bab0-334ba589c4a7",
   "metadata": {},
   "outputs": [],
   "source": []
  },
  {
   "cell_type": "code",
   "execution_count": null,
   "id": "49977a8f-d2f2-4023-8a44-704de7d27044",
   "metadata": {},
   "outputs": [],
   "source": []
  },
  {
   "cell_type": "code",
   "execution_count": null,
   "id": "7331d32e-462c-420b-b85a-4005c705055f",
   "metadata": {},
   "outputs": [],
   "source": []
  },
  {
   "cell_type": "code",
   "execution_count": null,
   "id": "cc2f980e-4eca-41e2-96c8-7963bfbfea78",
   "metadata": {},
   "outputs": [],
   "source": []
  },
  {
   "cell_type": "code",
   "execution_count": null,
   "id": "cc43fa01-f964-4daa-9f34-43078521bd0d",
   "metadata": {},
   "outputs": [],
   "source": []
  },
  {
   "cell_type": "code",
   "execution_count": null,
   "id": "aa4c40e4-e130-4648-a90e-cfdcbf902793",
   "metadata": {},
   "outputs": [],
   "source": []
  },
  {
   "cell_type": "code",
   "execution_count": null,
   "id": "24c92f29-b485-4c2e-871f-ab511db452ed",
   "metadata": {},
   "outputs": [],
   "source": []
  },
  {
   "cell_type": "code",
   "execution_count": null,
   "id": "1d50018f-4dbf-4b89-ba7f-eac9281c00e5",
   "metadata": {},
   "outputs": [],
   "source": []
  },
  {
   "cell_type": "code",
   "execution_count": null,
   "id": "6f8b9f28-298a-4e51-a0eb-658bb3474223",
   "metadata": {},
   "outputs": [],
   "source": []
  },
  {
   "cell_type": "code",
   "execution_count": null,
   "id": "17651a69-945c-4596-b7ed-b3cad891288f",
   "metadata": {},
   "outputs": [],
   "source": []
  },
  {
   "cell_type": "code",
   "execution_count": null,
   "id": "4552e283-b834-47f7-9b46-0dc5f4341580",
   "metadata": {},
   "outputs": [],
   "source": []
  },
  {
   "cell_type": "code",
   "execution_count": null,
   "id": "416ec38c-947a-4d67-b546-7776edc61ba9",
   "metadata": {},
   "outputs": [],
   "source": []
  },
  {
   "cell_type": "code",
   "execution_count": null,
   "id": "d04bb3b3-b133-4453-a563-c18497421ac9",
   "metadata": {},
   "outputs": [],
   "source": []
  },
  {
   "cell_type": "code",
   "execution_count": null,
   "id": "3a3573cf-a7dd-4041-9582-12c837f0d6f7",
   "metadata": {},
   "outputs": [],
   "source": []
  },
  {
   "cell_type": "code",
   "execution_count": null,
   "id": "dda7b015-2118-4138-9daa-4e1b19820444",
   "metadata": {},
   "outputs": [],
   "source": []
  },
  {
   "cell_type": "code",
   "execution_count": null,
   "id": "8c95419e-5f71-4138-bfb2-6fb327d81d0e",
   "metadata": {},
   "outputs": [],
   "source": []
  },
  {
   "cell_type": "code",
   "execution_count": null,
   "id": "c6ae6e71-ea23-4c3d-b657-d4dee21f9a39",
   "metadata": {},
   "outputs": [],
   "source": []
  },
  {
   "cell_type": "code",
   "execution_count": null,
   "id": "43a799a6-e0d1-4137-a206-ba9e425110ad",
   "metadata": {},
   "outputs": [],
   "source": []
  },
  {
   "cell_type": "code",
   "execution_count": null,
   "id": "a0c33ff4-895b-48b2-9acd-e97be1319304",
   "metadata": {},
   "outputs": [],
   "source": []
  },
  {
   "cell_type": "code",
   "execution_count": null,
   "id": "07eef06a-4188-4df7-b9c1-625b71099b5c",
   "metadata": {},
   "outputs": [],
   "source": []
  },
  {
   "cell_type": "code",
   "execution_count": null,
   "id": "816ac940-d7c3-4b64-bc61-3dbce7f821b8",
   "metadata": {},
   "outputs": [],
   "source": []
  },
  {
   "cell_type": "code",
   "execution_count": null,
   "id": "30871fa6-da85-4d0e-8397-e598934c30a7",
   "metadata": {},
   "outputs": [],
   "source": []
  },
  {
   "cell_type": "code",
   "execution_count": null,
   "id": "fb43e9f5-7abe-4297-837f-61fe020ee31d",
   "metadata": {},
   "outputs": [],
   "source": []
  },
  {
   "cell_type": "code",
   "execution_count": null,
   "id": "25cde3b6-59a0-4ec0-8c86-7b8925fb1c1f",
   "metadata": {},
   "outputs": [],
   "source": []
  },
  {
   "cell_type": "code",
   "execution_count": null,
   "id": "c86ad86d-d6c4-4584-9797-d649a9148355",
   "metadata": {},
   "outputs": [],
   "source": []
  },
  {
   "cell_type": "code",
   "execution_count": null,
   "id": "f4c0d6b0-12af-44df-a755-61115f0cbc22",
   "metadata": {},
   "outputs": [],
   "source": []
  },
  {
   "cell_type": "code",
   "execution_count": null,
   "id": "c469ee11-6bab-43e8-bdcd-1f8d4516d944",
   "metadata": {},
   "outputs": [],
   "source": []
  },
  {
   "cell_type": "code",
   "execution_count": null,
   "id": "717479ee-2193-4cd1-8c7a-29980a36b832",
   "metadata": {},
   "outputs": [],
   "source": []
  },
  {
   "cell_type": "code",
   "execution_count": null,
   "id": "55e666ec-e226-4cdd-b1bb-f6c45592e828",
   "metadata": {},
   "outputs": [],
   "source": []
  },
  {
   "cell_type": "code",
   "execution_count": null,
   "id": "1691736c-e104-4d01-b30a-7bd8b7184514",
   "metadata": {},
   "outputs": [],
   "source": []
  },
  {
   "cell_type": "code",
   "execution_count": null,
   "id": "5a26890e-57f3-428f-af61-dbc7a973e3c0",
   "metadata": {},
   "outputs": [],
   "source": []
  },
  {
   "cell_type": "code",
   "execution_count": null,
   "id": "ce2c0b8d-1c57-4347-8040-6aeb9cdb2a74",
   "metadata": {},
   "outputs": [],
   "source": []
  },
  {
   "cell_type": "code",
   "execution_count": null,
   "id": "c31142cf-a790-4363-87ba-e5bb18938220",
   "metadata": {},
   "outputs": [],
   "source": []
  },
  {
   "cell_type": "code",
   "execution_count": null,
   "id": "ead241e9-224d-41e2-ae23-bb378eba0d32",
   "metadata": {},
   "outputs": [],
   "source": []
  },
  {
   "cell_type": "code",
   "execution_count": null,
   "id": "87f3c644-2f9c-45de-a1c4-998e42ba7f46",
   "metadata": {},
   "outputs": [],
   "source": []
  },
  {
   "cell_type": "code",
   "execution_count": null,
   "id": "212742e5-d7db-4144-8e4b-2eeb135ba587",
   "metadata": {},
   "outputs": [],
   "source": []
  },
  {
   "cell_type": "code",
   "execution_count": null,
   "id": "cd02c4b1-8f69-4f62-a46c-0af0bb7a7a2d",
   "metadata": {},
   "outputs": [],
   "source": []
  },
  {
   "cell_type": "code",
   "execution_count": null,
   "id": "4a5027dd-7f2d-449d-aaf3-87fbace69fd0",
   "metadata": {},
   "outputs": [],
   "source": []
  },
  {
   "cell_type": "code",
   "execution_count": null,
   "id": "aede3861-5d4d-42ce-80c3-be0c553e4be8",
   "metadata": {},
   "outputs": [],
   "source": []
  },
  {
   "cell_type": "code",
   "execution_count": null,
   "id": "08a74c52-e4c7-4fce-abea-4f88fb607984",
   "metadata": {},
   "outputs": [],
   "source": []
  },
  {
   "cell_type": "code",
   "execution_count": null,
   "id": "3e1b5dc3-fd0e-4012-9504-9aad17cfe2c6",
   "metadata": {},
   "outputs": [],
   "source": []
  },
  {
   "cell_type": "code",
   "execution_count": null,
   "id": "a5e202dd-dcbd-49e8-9a7f-48432bfac2f9",
   "metadata": {},
   "outputs": [],
   "source": []
  }
 ],
 "metadata": {
  "kernelspec": {
   "display_name": "Python 3 (ipykernel)",
   "language": "python",
   "name": "python3"
  },
  "language_info": {
   "codemirror_mode": {
    "name": "ipython",
    "version": 3
   },
   "file_extension": ".py",
   "mimetype": "text/x-python",
   "name": "python",
   "nbconvert_exporter": "python",
   "pygments_lexer": "ipython3",
   "version": "3.13.0"
  }
 },
 "nbformat": 4,
 "nbformat_minor": 5
}
